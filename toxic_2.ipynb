{
  "nbformat": 4,
  "nbformat_minor": 0,
  "metadata": {
    "colab": {
      "name": "toxic 2.ipynb",
      "provenance": [],
      "collapsed_sections": [],
      "mount_file_id": "1rmH7rMUlrM-MxpW5hJsz2suvzr9ABvan",
      "authorship_tag": "ABX9TyP/wUAhViNikzrJ2rhlhdd0",
      "include_colab_link": true
    },
    "kernelspec": {
      "display_name": "Python 3",
      "name": "python3"
    }
  },
  "cells": [
    {
      "cell_type": "markdown",
      "metadata": {
        "id": "view-in-github",
        "colab_type": "text"
      },
      "source": [
        "<a href=\"https://colab.research.google.com/github/janaswamirishi1999/Technocolabs-ML1/blob/main/toxic_2.ipynb\" target=\"_parent\"><img src=\"https://colab.research.google.com/assets/colab-badge.svg\" alt=\"Open In Colab\"/></a>"
      ]
    },
    {
      "cell_type": "code",
      "metadata": {
        "id": "sjfZ60PBLBDX",
        "colab": {
          "base_uri": "https://localhost:8080/"
        },
        "outputId": "917958f5-fa49-4ce9-aa32-0040545bd27e"
      },
      "source": [
        "# Packages : \r\n",
        "\r\n",
        "import numpy as np # linear algebra\r\n",
        "import pandas as pd # data processing, CSV file I/O (e.g. pd.read_csv)\r\n",
        "import matplotlib.pyplot as plt\r\n",
        "import seaborn as sns\r\n",
        "import plotly.graph_objects as go\r\n",
        "import plotly.express as px\r\n",
        "import collections\r\n",
        "import wordcloud\r\n",
        "import re\r\n",
        "import logging\r\n",
        "import itertools\r\n",
        "import unicodedata\r\n",
        "import string\r\n",
        "#import contractions\r\n",
        "import nltk\r\n",
        "nltk.download('punkt')\r\n",
        "from nltk.corpus import stopwords\r\n",
        "from nltk.tokenize import word_tokenize\r\n",
        "from collections import defaultdict\r\n",
        "from bs4 import BeautifulSoup\r\n",
        "from sklearn.feature_extraction.text import CountVectorizer, TfidfVectorizer\r\n",
        "from wordcloud import WordCloud, STOPWORDS \r\n",
        "from textblob import TextBlob"
      ],
      "execution_count": 17,
      "outputs": [
        {
          "output_type": "stream",
          "text": [
            "[nltk_data] Downloading package punkt to /root/nltk_data...\n",
            "[nltk_data]   Unzipping tokenizers/punkt.zip.\n"
          ],
          "name": "stdout"
        }
      ]
    },
    {
      "cell_type": "code",
      "metadata": {
        "colab": {
          "base_uri": "https://localhost:8080/"
        },
        "id": "Rk-j4d-FSDnw",
        "outputId": "75aeb7d0-3fef-4875-83c7-75acc98ae5bc"
      },
      "source": [
        "from google.colab import drive\r\n",
        "drive.mount('/content/drive')\r\n",
        "\r\n",
        "train = pd.read_csv('/content/drive/MyDrive/2006/train1.csv' )"
      ],
      "execution_count": 2,
      "outputs": [
        {
          "output_type": "stream",
          "text": [
            "Drive already mounted at /content/drive; to attempt to forcibly remount, call drive.mount(\"/content/drive\", force_remount=True).\n"
          ],
          "name": "stdout"
        }
      ]
    },
    {
      "cell_type": "code",
      "metadata": {
        "colab": {
          "base_uri": "https://localhost:8080/",
          "height": 561
        },
        "id": "z46reubcUYAV",
        "outputId": "ad92450a-32ce-42ed-e109-de2563e17044"
      },
      "source": [
        "train.info()\r\n",
        "train.describe()"
      ],
      "execution_count": 3,
      "outputs": [
        {
          "output_type": "stream",
          "text": [
            "<class 'pandas.core.frame.DataFrame'>\n",
            "RangeIndex: 159571 entries, 0 to 159570\n",
            "Data columns (total 8 columns):\n",
            " #   Column         Non-Null Count   Dtype \n",
            "---  ------         --------------   ----- \n",
            " 0   id             159571 non-null  object\n",
            " 1   comment_text   159571 non-null  object\n",
            " 2   toxic          159571 non-null  int64 \n",
            " 3   severe_toxic   159571 non-null  int64 \n",
            " 4   obscene        159571 non-null  int64 \n",
            " 5   threat         159571 non-null  int64 \n",
            " 6   insult         159571 non-null  int64 \n",
            " 7   identity_hate  159571 non-null  int64 \n",
            "dtypes: int64(6), object(2)\n",
            "memory usage: 9.7+ MB\n"
          ],
          "name": "stdout"
        },
        {
          "output_type": "execute_result",
          "data": {
            "text/html": [
              "<div>\n",
              "<style scoped>\n",
              "    .dataframe tbody tr th:only-of-type {\n",
              "        vertical-align: middle;\n",
              "    }\n",
              "\n",
              "    .dataframe tbody tr th {\n",
              "        vertical-align: top;\n",
              "    }\n",
              "\n",
              "    .dataframe thead th {\n",
              "        text-align: right;\n",
              "    }\n",
              "</style>\n",
              "<table border=\"1\" class=\"dataframe\">\n",
              "  <thead>\n",
              "    <tr style=\"text-align: right;\">\n",
              "      <th></th>\n",
              "      <th>toxic</th>\n",
              "      <th>severe_toxic</th>\n",
              "      <th>obscene</th>\n",
              "      <th>threat</th>\n",
              "      <th>insult</th>\n",
              "      <th>identity_hate</th>\n",
              "    </tr>\n",
              "  </thead>\n",
              "  <tbody>\n",
              "    <tr>\n",
              "      <th>count</th>\n",
              "      <td>159571.000000</td>\n",
              "      <td>159571.000000</td>\n",
              "      <td>159571.000000</td>\n",
              "      <td>159571.000000</td>\n",
              "      <td>159571.000000</td>\n",
              "      <td>159571.000000</td>\n",
              "    </tr>\n",
              "    <tr>\n",
              "      <th>mean</th>\n",
              "      <td>0.095844</td>\n",
              "      <td>0.009996</td>\n",
              "      <td>0.052948</td>\n",
              "      <td>0.002996</td>\n",
              "      <td>0.049364</td>\n",
              "      <td>0.008805</td>\n",
              "    </tr>\n",
              "    <tr>\n",
              "      <th>std</th>\n",
              "      <td>0.294379</td>\n",
              "      <td>0.099477</td>\n",
              "      <td>0.223931</td>\n",
              "      <td>0.054650</td>\n",
              "      <td>0.216627</td>\n",
              "      <td>0.093420</td>\n",
              "    </tr>\n",
              "    <tr>\n",
              "      <th>min</th>\n",
              "      <td>0.000000</td>\n",
              "      <td>0.000000</td>\n",
              "      <td>0.000000</td>\n",
              "      <td>0.000000</td>\n",
              "      <td>0.000000</td>\n",
              "      <td>0.000000</td>\n",
              "    </tr>\n",
              "    <tr>\n",
              "      <th>25%</th>\n",
              "      <td>0.000000</td>\n",
              "      <td>0.000000</td>\n",
              "      <td>0.000000</td>\n",
              "      <td>0.000000</td>\n",
              "      <td>0.000000</td>\n",
              "      <td>0.000000</td>\n",
              "    </tr>\n",
              "    <tr>\n",
              "      <th>50%</th>\n",
              "      <td>0.000000</td>\n",
              "      <td>0.000000</td>\n",
              "      <td>0.000000</td>\n",
              "      <td>0.000000</td>\n",
              "      <td>0.000000</td>\n",
              "      <td>0.000000</td>\n",
              "    </tr>\n",
              "    <tr>\n",
              "      <th>75%</th>\n",
              "      <td>0.000000</td>\n",
              "      <td>0.000000</td>\n",
              "      <td>0.000000</td>\n",
              "      <td>0.000000</td>\n",
              "      <td>0.000000</td>\n",
              "      <td>0.000000</td>\n",
              "    </tr>\n",
              "    <tr>\n",
              "      <th>max</th>\n",
              "      <td>1.000000</td>\n",
              "      <td>1.000000</td>\n",
              "      <td>1.000000</td>\n",
              "      <td>1.000000</td>\n",
              "      <td>1.000000</td>\n",
              "      <td>1.000000</td>\n",
              "    </tr>\n",
              "  </tbody>\n",
              "</table>\n",
              "</div>"
            ],
            "text/plain": [
              "               toxic   severe_toxic  ...         insult  identity_hate\n",
              "count  159571.000000  159571.000000  ...  159571.000000  159571.000000\n",
              "mean        0.095844       0.009996  ...       0.049364       0.008805\n",
              "std         0.294379       0.099477  ...       0.216627       0.093420\n",
              "min         0.000000       0.000000  ...       0.000000       0.000000\n",
              "25%         0.000000       0.000000  ...       0.000000       0.000000\n",
              "50%         0.000000       0.000000  ...       0.000000       0.000000\n",
              "75%         0.000000       0.000000  ...       0.000000       0.000000\n",
              "max         1.000000       1.000000  ...       1.000000       1.000000\n",
              "\n",
              "[8 rows x 6 columns]"
            ]
          },
          "metadata": {
            "tags": []
          },
          "execution_count": 3
        }
      ]
    },
    {
      "cell_type": "code",
      "metadata": {
        "colab": {
          "base_uri": "https://localhost:8080/",
          "height": 271
        },
        "id": "ETWuS18WAqzC",
        "outputId": "d6a65527-236f-4a0e-a0e1-a6c68fb86cff"
      },
      "source": [
        "print( train.columns)\r\n",
        "print( train.shape)\r\n",
        "train.head()\r\n"
      ],
      "execution_count": 4,
      "outputs": [
        {
          "output_type": "stream",
          "text": [
            "Index(['id', 'comment_text', 'toxic', 'severe_toxic', 'obscene', 'threat',\n",
            "       'insult', 'identity_hate'],\n",
            "      dtype='object')\n",
            "(159571, 8)\n"
          ],
          "name": "stdout"
        },
        {
          "output_type": "execute_result",
          "data": {
            "text/html": [
              "<div>\n",
              "<style scoped>\n",
              "    .dataframe tbody tr th:only-of-type {\n",
              "        vertical-align: middle;\n",
              "    }\n",
              "\n",
              "    .dataframe tbody tr th {\n",
              "        vertical-align: top;\n",
              "    }\n",
              "\n",
              "    .dataframe thead th {\n",
              "        text-align: right;\n",
              "    }\n",
              "</style>\n",
              "<table border=\"1\" class=\"dataframe\">\n",
              "  <thead>\n",
              "    <tr style=\"text-align: right;\">\n",
              "      <th></th>\n",
              "      <th>id</th>\n",
              "      <th>comment_text</th>\n",
              "      <th>toxic</th>\n",
              "      <th>severe_toxic</th>\n",
              "      <th>obscene</th>\n",
              "      <th>threat</th>\n",
              "      <th>insult</th>\n",
              "      <th>identity_hate</th>\n",
              "    </tr>\n",
              "  </thead>\n",
              "  <tbody>\n",
              "    <tr>\n",
              "      <th>0</th>\n",
              "      <td>0000997932d777bf</td>\n",
              "      <td>Explanation\\nWhy the edits made under my usern...</td>\n",
              "      <td>0</td>\n",
              "      <td>0</td>\n",
              "      <td>0</td>\n",
              "      <td>0</td>\n",
              "      <td>0</td>\n",
              "      <td>0</td>\n",
              "    </tr>\n",
              "    <tr>\n",
              "      <th>1</th>\n",
              "      <td>000103f0d9cfb60f</td>\n",
              "      <td>D'aww! He matches this background colour I'm s...</td>\n",
              "      <td>0</td>\n",
              "      <td>0</td>\n",
              "      <td>0</td>\n",
              "      <td>0</td>\n",
              "      <td>0</td>\n",
              "      <td>0</td>\n",
              "    </tr>\n",
              "    <tr>\n",
              "      <th>2</th>\n",
              "      <td>000113f07ec002fd</td>\n",
              "      <td>Hey man, I'm really not trying to edit war. It...</td>\n",
              "      <td>0</td>\n",
              "      <td>0</td>\n",
              "      <td>0</td>\n",
              "      <td>0</td>\n",
              "      <td>0</td>\n",
              "      <td>0</td>\n",
              "    </tr>\n",
              "    <tr>\n",
              "      <th>3</th>\n",
              "      <td>0001b41b1c6bb37e</td>\n",
              "      <td>\"\\nMore\\nI can't make any real suggestions on ...</td>\n",
              "      <td>0</td>\n",
              "      <td>0</td>\n",
              "      <td>0</td>\n",
              "      <td>0</td>\n",
              "      <td>0</td>\n",
              "      <td>0</td>\n",
              "    </tr>\n",
              "    <tr>\n",
              "      <th>4</th>\n",
              "      <td>0001d958c54c6e35</td>\n",
              "      <td>You, sir, are my hero. Any chance you remember...</td>\n",
              "      <td>0</td>\n",
              "      <td>0</td>\n",
              "      <td>0</td>\n",
              "      <td>0</td>\n",
              "      <td>0</td>\n",
              "      <td>0</td>\n",
              "    </tr>\n",
              "  </tbody>\n",
              "</table>\n",
              "</div>"
            ],
            "text/plain": [
              "                 id  ... identity_hate\n",
              "0  0000997932d777bf  ...             0\n",
              "1  000103f0d9cfb60f  ...             0\n",
              "2  000113f07ec002fd  ...             0\n",
              "3  0001b41b1c6bb37e  ...             0\n",
              "4  0001d958c54c6e35  ...             0\n",
              "\n",
              "[5 rows x 8 columns]"
            ]
          },
          "metadata": {
            "tags": []
          },
          "execution_count": 4
        }
      ]
    },
    {
      "cell_type": "code",
      "metadata": {
        "colab": {
          "base_uri": "https://localhost:8080/",
          "height": 198
        },
        "id": "HeknYuwHLGab",
        "outputId": "0a2574df-5eec-4ae3-f8bc-83dd5d21cdf1"
      },
      "source": [
        "train.head()"
      ],
      "execution_count": null,
      "outputs": [
        {
          "output_type": "execute_result",
          "data": {
            "text/html": [
              "<div>\n",
              "<style scoped>\n",
              "    .dataframe tbody tr th:only-of-type {\n",
              "        vertical-align: middle;\n",
              "    }\n",
              "\n",
              "    .dataframe tbody tr th {\n",
              "        vertical-align: top;\n",
              "    }\n",
              "\n",
              "    .dataframe thead th {\n",
              "        text-align: right;\n",
              "    }\n",
              "</style>\n",
              "<table border=\"1\" class=\"dataframe\">\n",
              "  <thead>\n",
              "    <tr style=\"text-align: right;\">\n",
              "      <th></th>\n",
              "      <th>id</th>\n",
              "      <th>comment_text</th>\n",
              "      <th>toxic</th>\n",
              "      <th>severe_toxic</th>\n",
              "      <th>obscene</th>\n",
              "      <th>threat</th>\n",
              "      <th>insult</th>\n",
              "      <th>identity_hate</th>\n",
              "    </tr>\n",
              "  </thead>\n",
              "  <tbody>\n",
              "    <tr>\n",
              "      <th>0</th>\n",
              "      <td>0000997932d777bf</td>\n",
              "      <td>Explanation\\nWhy the edits made under my usern...</td>\n",
              "      <td>0</td>\n",
              "      <td>0</td>\n",
              "      <td>0</td>\n",
              "      <td>0</td>\n",
              "      <td>0</td>\n",
              "      <td>0</td>\n",
              "    </tr>\n",
              "    <tr>\n",
              "      <th>1</th>\n",
              "      <td>000103f0d9cfb60f</td>\n",
              "      <td>D'aww! He matches this background colour I'm s...</td>\n",
              "      <td>0</td>\n",
              "      <td>0</td>\n",
              "      <td>0</td>\n",
              "      <td>0</td>\n",
              "      <td>0</td>\n",
              "      <td>0</td>\n",
              "    </tr>\n",
              "    <tr>\n",
              "      <th>2</th>\n",
              "      <td>000113f07ec002fd</td>\n",
              "      <td>Hey man, I'm really not trying to edit war. It...</td>\n",
              "      <td>0</td>\n",
              "      <td>0</td>\n",
              "      <td>0</td>\n",
              "      <td>0</td>\n",
              "      <td>0</td>\n",
              "      <td>0</td>\n",
              "    </tr>\n",
              "    <tr>\n",
              "      <th>3</th>\n",
              "      <td>0001b41b1c6bb37e</td>\n",
              "      <td>\"\\nMore\\nI can't make any real suggestions on ...</td>\n",
              "      <td>0</td>\n",
              "      <td>0</td>\n",
              "      <td>0</td>\n",
              "      <td>0</td>\n",
              "      <td>0</td>\n",
              "      <td>0</td>\n",
              "    </tr>\n",
              "    <tr>\n",
              "      <th>4</th>\n",
              "      <td>0001d958c54c6e35</td>\n",
              "      <td>You, sir, are my hero. Any chance you remember...</td>\n",
              "      <td>0</td>\n",
              "      <td>0</td>\n",
              "      <td>0</td>\n",
              "      <td>0</td>\n",
              "      <td>0</td>\n",
              "      <td>0</td>\n",
              "    </tr>\n",
              "  </tbody>\n",
              "</table>\n",
              "</div>"
            ],
            "text/plain": [
              "                 id  ... identity_hate\n",
              "0  0000997932d777bf  ...             0\n",
              "1  000103f0d9cfb60f  ...             0\n",
              "2  000113f07ec002fd  ...             0\n",
              "3  0001b41b1c6bb37e  ...             0\n",
              "4  0001d958c54c6e35  ...             0\n",
              "\n",
              "[5 rows x 8 columns]"
            ]
          },
          "metadata": {
            "tags": []
          },
          "execution_count": 6
        }
      ]
    },
    {
      "cell_type": "code",
      "metadata": {
        "id": "2tLfCZomh9Hz",
        "colab": {
          "base_uri": "https://localhost:8080/"
        },
        "outputId": "ea40fad3-898e-420f-9c86-47a1765f9b02"
      },
      "source": [
        "for i in ['toxic', 'severe_toxic', 'obscene', 'threat',\r\n",
        "       'insult', 'identity_hate']:\r\n",
        "    print(\"{} :\".format(i.upper()))\r\n",
        "    print(train.loc[train[i]==1, 'comment_text'].sample().values, \"\\n\")"
      ],
      "execution_count": 5,
      "outputs": [
        {
          "output_type": "stream",
          "text": [
            "TOXIC :\n",
            "['How many times did your father fuck you in the ass, Sullenspice?'] \n",
            "\n",
            "SEVERE_TOXIC :\n",
            "[\"RETARD \\n\\nI'ts my flippen opinion anyways and how about get a life intead of reporting peoplego get laid you stupid gay virgin\"] \n",
            "\n",
            "OBSCENE :\n",
            "['\"\\n\\n Funny usage? \\n\\nThere used to be a very amusing and funny example of the usage of the word \"\"fuck\"\" in place of almost every part of speach in a sentence. Where did it go? I do not exactly remember it but I think it should be brought back.  \"'] \n",
            "\n",
            "THREAT :\n",
            "[\"If you don't let me post, I will fuck you up\"] \n",
            "\n",
            "INSULT :\n",
            "['YOU SHOULD ALL RUE THE DAY YOU WERE BORN!!!! I HAVE TAKEN OVER THIS PAGE!!!! I AM THE GOD OF CHOCOBOS, I WANT MY CHEESE, GEORGE BUSH SHOULD GO TO HELL!!!!!!!!! I AM THE GOD OF CHOCOBOS, I WANT MY CHEESE, GEORGE BUSH SHOULD GO TO HELL!!!!!!!!! I AM THE GOD OF CHOCOBOS, I WANT MY CHEESE, GEORGE BUSH SHOULD GO TO HELL!!!!!!!!! I AM THE GOD OF CHOCOBOS, I WANT MY CHEESE, GEORGE BUSH SHOULD GO TO HELL!!!!!!!!! I AM THE GOD OF CHOCOBOS, I WANT MY CHEESE, GEORGE BUSH SHOULD GO TO HELL!!!!!!!!! I AM THE GOD OF CHOCOBOS, I WANT MY CHEESE, GEORGE BUSH SHOULD GO TO HELL!!!!!!!!! I AM THE GOD OF CHOCOBOS, I WANT MY CHEESE, GEORGE BUSH SHOULD GO TO HELL!!!!!!!!! I AM THE GOD OF CHOCOBOS, I WANT MY CHEESE, GEORGE BUSH SHOULD GO TO HELL!!!!!!!!! I AM THE GOD OF CHOCOBOS, I WANT MY CHEESE, GEORGE BUSH SHOULD GO TO HELL!!!!!!!!! I AM THE GOD OF CHOCOBOS, I WANT MY CHEESE, GEORGE BUSH SHOULD GO TO HELL!!!!!!!!! I AM THE GOD OF CHOCOBOS, I WANT MY CHEESE, GEORGE BUSH SHOULD GO TO HELL!!!!!!!!! I AM THE GOD OF CHOCOBOS, I WANT MY CHEESE, GEORGE BUSH SHOULD GO TO HELL!!!!!!!!! I AM THE GOD OF CHOCOBOS, I WANT MY CHEESE, GEORGE BUSH SHOULD GO TO HELL!!!!!!!!! I AM THE GOD OF CHOCOBOS, I WANT MY CHEESE, GEORGE BUSH SHOULD GO TO HELL!!!!!!!!! I AM THE GOD OF CHOCOBOS, I WANT MY CHEESE, GEORGE BUSH SHOULD GO TO HELL!!!!!!!!! I AM THE GOD OF CHOCOBOS, I WANT MY CHEESE, GEORGE BUSH SHOULD GO TO HELL!!!!!!!!! I AM THE GOD OF CHOCOBOS, I WANT MY CHEESE, GEORGE BUSH SHOULD GO TO HELL!!!!!!!!! I AM THE GOD OF CHOCOBOS, I WANT MY CHEESE, GEORGE BUSH SHOULD GO TO HELL!!!!!!!!! I AM THE GOD OF CHOCOBOS, I WANT MY CHEESE, GEORGE BUSH SHOULD GO TO HELL!!!!!!!!! I AM THE GOD OF CHOCOBOS, I WANT MY CHEESE, GEORGE BUSH SHOULD GO TO HELL!!!!!!!!! I AM THE GOD OF CHOCOBOS, I WANT MY CHEESE, GEORGE BUSH SHOULD GO TO HELL!!!!!!!!! I AM THE GOD OF CHOCOBOS, I WANT MY CHEESE, GEORGE BUSH SHOULD GO TO HELL!!!!!!!!! I AM THE GOD OF CHOCOBOS, I WANT MY CHEESE, GEORGE BUSH SHOULD GO TO HELL!!!!!!!!! I AM THE GOD OF CHOCOBOS, I WANT MY CHEESE, GEORGE BUSH SHOULD GO TO HELL!!!!!!!!! I AM THE GOD OF CHOCOBOS, I WANT MY CHEESE, GEORGE BUSH SHOULD GO TO HELL!!!!!!!!! I AM THE GOD OF CHOCOBOS, I WANT MY CHEESE, GEORGE BUSH SHOULD GO TO HELL!!!!!!!!! I AM THE GOD OF CHOCOBOS, I WANT MY CHEESE, GEORGE BUSH SHOULD GO TO HELL!!!!!!!!! I AM THE GOD OF CHOCOBOS, I WANT MY CHEESE, GEORGE BUSH SHOULD GO TO HELL!!!!!!!!! I AM THE GOD OF CHOCOBOS, I WANT MY CHEESE, GEORGE BUSH SHOULD GO TO HELL!!!!!!!!! I AM THE GOD OF CHOCOBOS, I WANT MY CHEESE, GEORGE BUSH SHOULD GO TO HELL!!!!!!!!! I AM THE GOD OF CHOCOBOS, I WANT MY CHEESE, GEORGE BUSH SHOULD GO TO HELL!!!!!!!!! I AM THE GOD OF CHOCOBOS, I WANT MY CHEESE, GEORGE BUSH SHOULD GO TO HELL!!!!!!!!! I AM THE GOD OF CHOCOBOS, I WANT MY CHEESE, GEORGE BUSH SHOULD GO TO HELL!!!!!!!!! I AM THE GOD OF CHOCOBOS, I WANT MY CHEESE, GEORGE BUSH SHOULD GO TO HELL!!!!!!!!! I AM THE GOD OF CHOCOBOS, I WANT MY CHEESE, GEORGE BUSH SHOULD GO TO HELL!!!!!!!!! I AM THE GOD OF CHOCOBOS, I WANT MY CHEESE, GEORGE BUSH SHOULD GO TO HELL!!!!!!!!! I AM THE GOD OF CHOCOBOS, I WANT MY CHEESE, GEORGE BUSH SHOULD GO TO HELL!!!!!!!!! I AM THE GOD OF CHOCOBOS, I WANT MY CHEESE, GEORGE BUSH SHOULD GO TO HELL!!!!!!!!! I AM THE GOD OF CHOCOBOS, I WANT MY CHEESE, GEORGE BUSH SHOULD GO TO HELL!!!!!!!!! I AM THE GOD OF CHOCOBOS, I WANT MY CHEESE, GEORGE BUSH SHOULD GO TO HELL!!!!!!!!! I AM THE GOD OF CHOCOBOS, I WANT MY CHEESE, GEORGE BUSH SHOULD GO TO HELL!!!!!!!!! I AM THE GOD OF CHOCOBOS, I WANT MY CHEESE, GEORGE BUSH SHOULD GO TO HELL!!!!!!!!! I AM THE GOD OF CHOCOBOS, I WANT MY CHEESE, GEORGE BUSH SHOULD GO TO HELL!!!!!!!!! I AM THE GOD OF CHOCOBOS, I WANT MY CHEESE, GEORGE BUSH SHOULD GO TO HELL!!!!!!!!! I AM THE GOD OF CHOCOBOS, I WANT MY CHEESE, GEORGE BUSH SHOULD GO TO HELL!!!!!!!!! I AM THE GOD OF CHOCOBOS, I WANT MY CHEESE, GEORGE BUSH SHOULD GO TO HELL!!!!!!!!! I AM THE GOD OF CHOCOBOS, I WANT MY CHEESE, GEORGE BUSH SHOULD GO TO HELL!!!!!!!!! I AM THE GOD OF CHOCOBOS, I WANT MY CHEESE, GEORGE BUSH SHOULD GO TO HELL!!!!!!!!! I AM THE GOD OF CHOCOBOS, I WANT MY CHEESE, GEORGE BUSH SHOULD GO TO HELL!!!!!!!!! I AM THE GOD OF CHOCOBOS, I WANT MY CHEESE, GEORGE BUSH SHOULD GO TO HELL!!!!!!!!! I AM THE GOD OF CHOCOBOS, I WANT MY CHEESE, GEORGE BUSH SHOULD GO TO HELL!!!!!!!!! I AM THE GOD OF CHOCOBOS, I WANT MY CHEESE, GEORGE BUSH SHOULD GO TO HELL!!!!!!!!! I AM THE GOD OF CHOCOBOS, I WANT MY CHEESE, GEORGE BUSH SHOULD GO TO HELL!!!!!!!!! I AM THE GOD OF CHOCOBOS, I WANT MY CHEESE, GEORGE BUSH SHOULD GO TO HELL!!!!!!!!! I AM THE GOD OF CHOCOBOS, I WANT MY CHEESE, GEORGE BUSH SHOULD GO TO HELL!!!!!!!!! I AM THE GOD OF CHOCOBOS, I WANT MY CHEESE, GEORGE BUSH SHOULD GO TO HELL!!!!!!!!! I AM THE GOD OF CHOCOBOS, I WANT MY CHEESE, GEORGE BUSH SHOULD GO TO HELL!!!!!!!!! I AM THE GOD OF CHOCOBOS, I WANT MY CHEESE, GEORGE BUSH SHOULD GO TO HELL!!!!!!!!! I AM THE GOD OF CHOCOBOS, I WANT MY CHEESE, GEORGE BUSH SHOULD GO TO HELL!!!!!!!!! I AM THE GOD OF CHOCOBOS,'] \n",
            "\n",
            "IDENTITY_HATE :\n",
            "['many more Gay Types \\n\\nthere are many more types of Gay as Gay bear,chubby bear,stocky bear,chubby gays.\\n more c\\nwww.bearwww.com\\nwww.bear411.com\\nwww.biggggercity.com\\\\chat'] \n",
            "\n"
          ],
          "name": "stdout"
        }
      ]
    },
    {
      "cell_type": "code",
      "metadata": {
        "id": "xCWNXN8tmSUO"
      },
      "source": [
        "## Visualization - EDA :\r\n",
        "\r\n",
        "def category_percentage(train):\r\n",
        "    train['clean'] = np.where((train['toxic']==0) & (train['severe_toxic']==0) & (train['obscene']==0) & (train['threat']==0) & (train['insult']==0) & (train['identity_hate']==0), 1,0)\r\n",
        "    \r\n",
        "    categories = ['toxic', 'severe_toxic', 'obscene', 'threat',\r\n",
        "       'insult', 'identity_hate', 'clean']\r\n",
        "    train['clean'] = np.where((train['toxic']==0) & (train['severe_toxic']==0) & (train['obscene']==0) & (train['threat']==0) & (train['insult']==0) & (train['identity_hate']==0), 1,0)\r\n",
        "    plot_data = train[categories].mean()*100\r\n",
        "\r\n",
        "    plt.figure(figsize=(10,5))\r\n",
        "    plt.title(\"percentage records by category\")\r\n",
        "    sns.barplot(x=plot_data.index, y = plot_data.values)\r\n",
        "    plt.show()\r\n",
        "    \r\n",
        "    return\r\n",
        "    def box_plot_text_len(train):\r\n",
        "      train['comment_length'] = train['comment_text'].apply(lambda x : len(x.split()))\r\n",
        "    toxic = train[train['toxic']==1]['comment_length'].values\r\n",
        "    severe_toxic = train[train['severe_toxic']==1]['comment_length'].values\r\n",
        "    obscene = train[train['obscene']==1]['comment_length'].values\r\n",
        "    threat = train[train['threat']==1]['comment_length'].values\r\n",
        "    insult = train[train['insult']==1]['comment_length'].values\r\n",
        "    identity_hate = train[train['identity_hate']==1]['comment_length'].values\r\n",
        "    clean = train[(train['toxic']==0) & (train['severe_toxic']==0) & (train['obscene']==0) & (train['threat']==0) & (train['insult']==0) & (train['identity_hate']==0)]['comment_length'].values\r\n",
        "\r\n",
        "    fig = go.Figure()\r\n",
        "    fig.add_trace(go.Box(y=toxic,name=\"toxic\",jitter=0.3,pointpos=-1.8,boxpoints='all'))\r\n",
        "    fig.add_trace(go.Box(y=severe_toxic,name=\"severe_toxic\",jitter=0.3,pointpos=-1.8,boxpoints='all'))\r\n",
        "    fig.add_trace(go.Box(y=obscene,name=\"obscene\",jitter=0.3,pointpos=-1.8,boxpoints='all'))\r\n",
        "    fig.add_trace(go.Box(y=threat,name=\"threat\",jitter=0.3,pointpos=-1.8,boxpoints='all'))\r\n",
        "    fig.add_trace(go.Box(y=insult,name=\"insult\",jitter=0.3,pointpos=-1.8,boxpoints='all'))\r\n",
        "    fig.add_trace(go.Box(y=identity_hate,name=\"identity_hate\",jitter=0.3,pointpos=-1.8,boxpoints='all'))\r\n",
        "    fig.add_trace(go.Box(y=clean,name=\"clean\",jitter=0.3,pointpos=-1.8,boxpoints='all'))\r\n",
        "\r\n",
        "    fig.show()\r\n",
        "    return \r\n",
        "\r\n",
        "def text_length_across_classes(train):\r\n",
        "    train['comment_length'] = train['comment_text'].apply(lambda x : len(x.split()))\r\n",
        "    \r\n",
        "    mean_text_len = []\r\n",
        "    min_text_len = []\r\n",
        "    max_text_len = []\r\n",
        "    median_text_len = []\r\n",
        "    for i in ['toxic', 'severe_toxic', 'obscene', 'threat', 'insult', 'identity_hate']:\r\n",
        "        mean_text_len.append(train[train[i]==1]['comment_length'].mean())  \r\n",
        "        min_text_len.append(train[train[i]==1]['comment_length'].min())  \r\n",
        "        max_text_len.append(train[train[i]==1]['comment_length'].max())  \r\n",
        "        median_text_len.append(train[train[i]==1]['comment_length'].median())  \r\n",
        "    mean_text_len.append(train[(train['toxic']==0) & (train['severe_toxic']==0) & (train['obscene']==0) & (train['threat']==0) & (train['insult']==0) & (train['identity_hate']==0)]['comment_length'].mean())\r\n",
        "    min_text_len.append(train[(train['toxic']==0) & (train['severe_toxic']==0) & (train['obscene']==0) & (train['threat']==0) & (train['insult']==0) & (train['identity_hate']==0)]['comment_length'].min())\r\n",
        "    max_text_len.append(train[(train['toxic']==0) & (train['severe_toxic']==0) & (train['obscene']==0) & (train['threat']==0) & (train['insult']==0) & (train['identity_hate']==0)]['comment_length'].max())\r\n",
        "    median_text_len.append(train[(train['toxic']==0) & (train['severe_toxic']==0) & (train['obscene']==0) & (train['threat']==0) & (train['insult']==0) & (train['identity_hate']==0)]['comment_length'].median())\r\n",
        "    \r\n",
        "    for j in ['mean', 'min', 'max', 'median']:\r\n",
        "        if j == 'mean': \r\n",
        "            len_data = mean_text_len\r\n",
        "        elif j =='max':\r\n",
        "            len_data = max_text_len\r\n",
        "        elif j == 'min':\r\n",
        "            len_data = min_text_len\r\n",
        "        else:\r\n",
        "            len_data = median_text_len\r\n",
        "        \r\n",
        "        plt.figure(figsize=(10,5))\r\n",
        "        plt.title('{} text length'.format(j))\r\n",
        "        sns.barplot(x = ['toxic', 'severe_toxic', 'obscene', 'threat', 'insult', 'identity_hate','clean'],\r\n",
        "            y = len_data)\r\n",
        "        plt.show()\r\n",
        "    \r\n",
        "    return\r\n",
        "\r\n",
        "    def corr_between_labels(train):\r\n",
        "      plt.figure(figsize=(15,8))\r\n",
        "    plt.title(\"correlation between toxic categories\")\r\n",
        "    sns.heatmap(train.corr(),cmap='YlGnBu',annot=True)\r\n",
        "    plt.show()\r\n",
        "    return \r\n",
        "\r\n",
        "## Gram statistics\r\n",
        "def gram_analysis(data,gram):\r\n",
        "    stop_words_set = set(stopwords.words('english'))\r\n",
        "    tokens=[t for t in data.lower().split(\" \") if t!=\"\" if t not in stop_words_set]\r\n",
        "    ngrams=zip(*[tokens[i:] for i in range(gram)])\r\n",
        "    final_tokens=[\" \".join(z) for z in ngrams]\r\n",
        "    return final_tokens\r\n",
        "\r\n",
        "    def gram_freq(train, gram, categ_col, text_col):\r\n",
        "      category_text = \" \".join(train[train[categ_col]==1][text_col].sample(200).values)\r\n",
        "    toks = gram_analysis(category_text, gram)\r\n",
        "    tok_freq = pd.DataFrame(data=[toks, np.ones(len(toks))]).T.groupby(0).sum().reset_index()\r\n",
        "    tok_freq.columns = ['token','frequency']\r\n",
        "    tok_freq = tok_freq.sort_values(by='frequency',ascending=False)\r\n",
        "    \r\n",
        "    plt.figure(figsize=(15,8))\r\n",
        "    plt.title(\"{} most common tokens\".format(categ_col))\r\n",
        "    sns.barplot(x='token', y='frequency', data=tok_freq.iloc[:30])\r\n",
        "    plt.xticks(rotation=90)\r\n",
        "    plt.show()\r\n",
        "    \r\n",
        "    return\r\n",
        "\r\n",
        "     # word distribution across categories:\r\n",
        "\r\n",
        "    def avg_word_len_plot(train):\r\n",
        "      train['punct_count'] = train['comment_text'].apply(lambda x : len([a for a in x if a in string.punctuation]))\r\n",
        "    train['avg_word_length'] = train['comment_text'].apply(lambda x : np.round(np.mean([len(a) for a in x.split()])))\r\n",
        "    \r\n",
        "    clean = train[train['clean']==1].avg_word_length.value_counts().reset_index()\r\n",
        "    clean.columns = ['len', 'freq']\r\n",
        "    clean = clean.sort_values(by='len')\r\n",
        "    plt.figure(figsize=(20,7))\r\n",
        "    plt.title(\"clean comments avg word length\")\r\n",
        "    sns.barplot(x=clean.len, y=clean.freq)\r\n",
        "    plt.xticks(rotation = 90)\r\n",
        "    plt.show()\r\n",
        "\r\n",
        "    toxic = train[train['clean']==0].avg_word_length.value_counts().reset_index()\r\n",
        "    toxic.columns = ['len', 'freq']\r\n",
        "    toxic = toxic.sort_values(by='len')\r\n",
        "    plt.figure(figsize=(20,7))\r\n",
        "    plt.title(\"toxic(all forms) comments avg word length\")\r\n",
        "    sns.barplot(x=toxic.len, y=toxic.freq)\r\n",
        "    plt.xticks(rotation = 90)\r\n",
        "    plt.show()\r\n",
        "    \r\n",
        "    return \r\n",
        "\r\n",
        "def generate_wordclouds(df, text_col, categ_col):\r\n",
        "    if categ_col == 'clean':\r\n",
        "        category_text = df[(df['toxic']==0) & (df['severe_toxic']==0) & (df['obscene']==0) & (df['threat']==0) & (df['insult']==0) & (df['identity_hate']==0)][text_col].values\r\n",
        "    else:\r\n",
        "        category_text = df[df[categ_col]==1][text_col].values\r\n",
        "    \r\n",
        "    plt.figure(figsize=(15,8))\r\n",
        "    wc = WordCloud(background_color=\"black\", max_words=5000, \r\n",
        "               stopwords=STOPWORDS, max_font_size= 40)\r\n",
        "    wc.generate(\" \".join(category_text))\r\n",
        "    plt.title(\"{} word cloud\".format(categ_col), fontsize=20)\r\n",
        "    # plt.imshow(wc.recolor( colormap= 'Pastel1_r' , random_state=17), alpha=0.98)\r\n",
        "    plt.imshow(wc.recolor( colormap= 'Pastel2' , random_state=17), alpha=0.98)\r\n",
        "    plt.axis('off')\r\n",
        "    plt.show()\r\n",
        "    \r\n",
        "    return \r\n"
      ],
      "execution_count": 6,
      "outputs": []
    },
    {
      "cell_type": "code",
      "metadata": {
        "colab": {
          "base_uri": "https://localhost:8080/"
        },
        "id": "cixsmkN_b_JZ",
        "outputId": "503e542f-9ade-4bf0-c6a5-e8e028412246"
      },
      "source": [
        "pip install stop-words"
      ],
      "execution_count": null,
      "outputs": [
        {
          "output_type": "stream",
          "text": [
            "Collecting stop-words\n",
            "  Downloading https://files.pythonhosted.org/packages/1c/cb/d58290804b7a4c5daa42abbbe2a93c477ae53e45541b1825e86f0dfaaf63/stop-words-2018.7.23.tar.gz\n",
            "Building wheels for collected packages: stop-words\n",
            "  Building wheel for stop-words (setup.py) ... \u001b[?25l\u001b[?25hdone\n",
            "  Created wheel for stop-words: filename=stop_words-2018.7.23-cp36-none-any.whl size=32917 sha256=13e5b403687cb261c404269a567bf5a969b0167f87f4f976b87eae32ab9adf44\n",
            "  Stored in directory: /root/.cache/pip/wheels/75/37/6a/2b295e03bd07290f0da95c3adb9a74ba95fbc333aa8b0c7c78\n",
            "Successfully built stop-words\n",
            "Installing collected packages: stop-words\n",
            "Successfully installed stop-words-2018.7.23\n"
          ],
          "name": "stdout"
        }
      ]
    },
    {
      "cell_type": "code",
      "metadata": {
        "id": "gfSJQ_PIfl0w",
        "colab": {
          "base_uri": "https://localhost:8080/",
          "height": 355
        },
        "outputId": "f4354cc7-2800-4103-9961-2d93787d4e6d"
      },
      "source": [
        "category_percentage(train)\r\n",
        "print(\"{}% of the comments are clean i.e., non-toxic\".format(np.round(100*train['clean'].sum()/train.shape[0],2)))"
      ],
      "execution_count": 7,
      "outputs": [
        {
          "output_type": "display_data",
          "data": {
            "image/png": "[encoded data removed]",
            "text/plain": [
              "<Figure size 720x360 with 1 Axes>"
            ]
          },
          "metadata": {
            "tags": [],
            "needs_background": "light"
          }
        },
        {
          "output_type": "stream",
          "text": [
            "89.83% of the comments are clean i.e., non-toxic\n"
          ],
          "name": "stdout"
        }
      ]
    },
    {
      "cell_type": "code",
      "metadata": {
        "colab": {
          "base_uri": "https://localhost:8080/"
        },
        "id": "-CtMoC7pwgKE",
        "outputId": "5ab4758e-b6e2-47a6-ae85-492bfe0588c7"
      },
      "source": [
        "print(pd.crosstab(train['toxic'], train['severe_toxic']))"
      ],
      "execution_count": 9,
      "outputs": [
        {
          "output_type": "stream",
          "text": [
            "severe_toxic       0     1\n",
            "toxic                     \n",
            "0             144277     0\n",
            "1              13699  1595\n"
          ],
          "name": "stdout"
        }
      ]
    },
    {
      "cell_type": "code",
      "metadata": {
        "colab": {
          "base_uri": "https://localhost:8080/",
          "height": 423
        },
        "id": "lojr0-9VxZbs",
        "outputId": "761ad929-8f95-4af3-99f2-b88d304e2fb3"
      },
      "source": [
        "# CLEANING :\r\n",
        "train[\"cleanedtext\"] = train[\"comment_text\"].apply(lambda x: x.lower())\r\n",
        "display(train.head())"
      ],
      "execution_count": 22,
      "outputs": [
        {
          "output_type": "display_data",
          "data": {
            "text/html": [
              "<div>\n",
              "<style scoped>\n",
              "    .dataframe tbody tr th:only-of-type {\n",
              "        vertical-align: middle;\n",
              "    }\n",
              "\n",
              "    .dataframe tbody tr th {\n",
              "        vertical-align: top;\n",
              "    }\n",
              "\n",
              "    .dataframe thead th {\n",
              "        text-align: right;\n",
              "    }\n",
              "</style>\n",
              "<table border=\"1\" class=\"dataframe\">\n",
              "  <thead>\n",
              "    <tr style=\"text-align: right;\">\n",
              "      <th></th>\n",
              "      <th>id</th>\n",
              "      <th>comment_text</th>\n",
              "      <th>toxic</th>\n",
              "      <th>severe_toxic</th>\n",
              "      <th>obscene</th>\n",
              "      <th>threat</th>\n",
              "      <th>insult</th>\n",
              "      <th>identity_hate</th>\n",
              "      <th>clean</th>\n",
              "      <th>text_clean</th>\n",
              "      <th>cleanedtext</th>\n",
              "    </tr>\n",
              "  </thead>\n",
              "  <tbody>\n",
              "    <tr>\n",
              "      <th>0</th>\n",
              "      <td>0000997932d777bf</td>\n",
              "      <td>Explanation\\nWhy the edits made under my usern...</td>\n",
              "      <td>0</td>\n",
              "      <td>0</td>\n",
              "      <td>0</td>\n",
              "      <td>0</td>\n",
              "      <td>0</td>\n",
              "      <td>0</td>\n",
              "      <td>1</td>\n",
              "      <td>explanation\\nwhy the edits made under my usern...</td>\n",
              "      <td>explanation\\nwhy the edits made under my usern...</td>\n",
              "    </tr>\n",
              "    <tr>\n",
              "      <th>1</th>\n",
              "      <td>000103f0d9cfb60f</td>\n",
              "      <td>D'aww! He matches this background colour I'm s...</td>\n",
              "      <td>0</td>\n",
              "      <td>0</td>\n",
              "      <td>0</td>\n",
              "      <td>0</td>\n",
              "      <td>0</td>\n",
              "      <td>0</td>\n",
              "      <td>1</td>\n",
              "      <td>d'aww! he matches this background colour I am ...</td>\n",
              "      <td>d'aww! he matches this background colour i'm s...</td>\n",
              "    </tr>\n",
              "    <tr>\n",
              "      <th>2</th>\n",
              "      <td>000113f07ec002fd</td>\n",
              "      <td>Hey man, I'm really not trying to edit war. It...</td>\n",
              "      <td>0</td>\n",
              "      <td>0</td>\n",
              "      <td>0</td>\n",
              "      <td>0</td>\n",
              "      <td>0</td>\n",
              "      <td>0</td>\n",
              "      <td>1</td>\n",
              "      <td>hey man, I am really not trying to edit war. i...</td>\n",
              "      <td>hey man, i'm really not trying to edit war. it...</td>\n",
              "    </tr>\n",
              "    <tr>\n",
              "      <th>3</th>\n",
              "      <td>0001b41b1c6bb37e</td>\n",
              "      <td>\"\\nMore\\nI can't make any real suggestions on ...</td>\n",
              "      <td>0</td>\n",
              "      <td>0</td>\n",
              "      <td>0</td>\n",
              "      <td>0</td>\n",
              "      <td>0</td>\n",
              "      <td>0</td>\n",
              "      <td>1</td>\n",
              "      <td>\"\\nmore\\ni can not make any real suggestions o...</td>\n",
              "      <td>\"\\nmore\\ni can't make any real suggestions on ...</td>\n",
              "    </tr>\n",
              "    <tr>\n",
              "      <th>4</th>\n",
              "      <td>0001d958c54c6e35</td>\n",
              "      <td>You, sir, are my hero. Any chance you remember...</td>\n",
              "      <td>0</td>\n",
              "      <td>0</td>\n",
              "      <td>0</td>\n",
              "      <td>0</td>\n",
              "      <td>0</td>\n",
              "      <td>0</td>\n",
              "      <td>1</td>\n",
              "      <td>you, sir, are my hero. any chance you remember...</td>\n",
              "      <td>you, sir, are my hero. any chance you remember...</td>\n",
              "    </tr>\n",
              "  </tbody>\n",
              "</table>\n",
              "</div>"
            ],
            "text/plain": [
              "                 id  ...                                        cleanedtext\n",
              "0  0000997932d777bf  ...  explanation\\nwhy the edits made under my usern...\n",
              "1  000103f0d9cfb60f  ...  d'aww! he matches this background colour i'm s...\n",
              "2  000113f07ec002fd  ...  hey man, i'm really not trying to edit war. it...\n",
              "3  0001b41b1c6bb37e  ...  \"\\nmore\\ni can't make any real suggestions on ...\n",
              "4  0001d958c54c6e35  ...  you, sir, are my hero. any chance you remember...\n",
              "\n",
              "[5 rows x 11 columns]"
            ]
          },
          "metadata": {
            "tags": []
          }
        }
      ]
    },
    {
      "cell_type": "code",
      "metadata": {
        "colab": {
          "base_uri": "https://localhost:8080/"
        },
        "id": "La0Jpo66xpcW",
        "outputId": "b778ec5d-e155-405c-d0a2-bfa7d2f7133d"
      },
      "source": [
        "# Using contractions for english :\r\n",
        "\r\n",
        "!pip install contractions"
      ],
      "execution_count": 14,
      "outputs": [
        {
          "output_type": "stream",
          "text": [
            "Collecting contractions\n",
            "  Downloading https://files.pythonhosted.org/packages/ce/ad/d1c685967945a04f8596128b15a1ab56c51488f53312e953341af6ff22d1/contractions-0.0.43-py2.py3-none-any.whl\n",
            "Collecting textsearch\n",
            "  Downloading https://files.pythonhosted.org/packages/42/a8/03407021f9555043de5492a2bd7a35c56cc03c2510092b5ec018cae1bbf1/textsearch-0.0.17-py2.py3-none-any.whl\n",
            "Collecting Unidecode\n",
            "\u001b[?25l  Downloading https://files.pythonhosted.org/packages/d0/42/d9edfed04228bacea2d824904cae367ee9efd05e6cce7ceaaedd0b0ad964/Unidecode-1.1.1-py2.py3-none-any.whl (238kB)\n",
            "\u001b[K     |████████████████████████████████| 245kB 14.3MB/s \n",
            "\u001b[?25hCollecting pyahocorasick\n",
            "\u001b[?25l  Downloading https://files.pythonhosted.org/packages/f4/9f/f0d8e8850e12829eea2e778f1c90e3c53a9a799b7f412082a5d21cd19ae1/pyahocorasick-1.4.0.tar.gz (312kB)\n",
            "\u001b[K     |████████████████████████████████| 317kB 36.5MB/s \n",
            "\u001b[?25hBuilding wheels for collected packages: pyahocorasick\n",
            "  Building wheel for pyahocorasick (setup.py) ... \u001b[?25l\u001b[?25hdone\n",
            "  Created wheel for pyahocorasick: filename=pyahocorasick-1.4.0-cp36-cp36m-linux_x86_64.whl size=81696 sha256=4b0613c7955d73a3837ff2f75c450c2049bce45013cd9e5a862288f7fddef8f8\n",
            "  Stored in directory: /root/.cache/pip/wheels/0a/90/61/87a55f5b459792fbb2b7ba6b31721b06ff5cf6bde541b40994\n",
            "Successfully built pyahocorasick\n",
            "Installing collected packages: Unidecode, pyahocorasick, textsearch, contractions\n",
            "Successfully installed Unidecode-1.1.1 contractions-0.0.43 pyahocorasick-1.4.0 textsearch-0.0.17\n"
          ],
          "name": "stdout"
        }
      ]
    },
    {
      "cell_type": "code",
      "metadata": {
        "colab": {
          "base_uri": "https://localhost:8080/"
        },
        "id": "YaLFdtUWx_pO",
        "outputId": "054a32f8-fe28-4a2f-db8a-727444dd9977"
      },
      "source": [
        "%time\r\n",
        "train[\"cleanedtext\"] = train[\"cleanedtext\"].apply(lambda x: contractions.fix(x))\r\n",
        "\r\n",
        "# double check\r\n",
        "print(train[\"comment_text\"][67])\r\n",
        "print(train[\"cleanedtext\"][67])\r\n",
        "print(train[\"comment_text\"][12])\r\n",
        "print(train[\"cleanedtext\"][12])"
      ],
      "execution_count": 23,
      "outputs": [
        {
          "output_type": "stream",
          "text": [
            "CPU times: user 2 µs, sys: 0 ns, total: 2 µs\n",
            "Wall time: 4.05 µs\n",
            "I went there around the same time he did, and that certainly was not the case at the time. Later on they stopped taking children from such a young age.\n",
            "i went there around the same time he did, and that certainly was not the case at the time. later on they stopped taking children from such a young age.\n",
            "Hey... what is it..\n",
            "@ | talk .\n",
            "What is it... an exclusive group of some WP TALIBANS...who are good at destroying, self-appointed purist who GANG UP any one who asks them questions abt their ANTI-SOCIAL and DESTRUCTIVE (non)-contribution at WP?\n",
            "\n",
            "Ask Sityush to clean up his behavior than issue me nonsensical warnings...\n",
            "hey... what is it..\n",
            "@ | talk .\n",
            "what is it... an exclusive group of some wp talibans...who are good at destroying, self-appointed purist who gang up any one who asks them questions abt their anti-social and destructive (non)-contribution at wp?\n",
            "\n",
            "ask sityush to clean up his behavior than issue me nonsensical warnings...\n"
          ],
          "name": "stdout"
        }
      ]
    },
    {
      "cell_type": "code",
      "metadata": {
        "colab": {
          "base_uri": "https://localhost:8080/"
        },
        "id": "WRARHdplypjr",
        "outputId": "b763d13d-fe69-4a9a-f945-0f4be9fda3bb"
      },
      "source": [
        "#NOISE Removal:\r\n",
        "\r\n",
        "def removeURL(comment_text):\r\n",
        "   return re.sub(r\"https?://\\S+|www\\.\\S+\", \"\", comment_text)\r\n",
        "# remove urls from the text\r\n",
        "train[\"cleanedtext\"] = train[\"cleanedtext\"].apply(lambda x: removeURL(x))\r\n",
        "\r\n",
        "# double check\r\n",
        "print(train[\"comment_text\"][102])\r\n",
        "print(train[\"cleanedtext\"][102])\r\n",
        "print(train[\"comment_text\"][48])\r\n",
        "print(train[\"cleanedtext\"][48])"
      ],
      "execution_count": 30,
      "outputs": [
        {
          "output_type": "stream",
          "text": [
            "i can't believe no one has already put up this page Dilbert's Desktop Games so I did\n",
            "i can not believe no one has already put up this page dilbert's desktop games so i did\n",
            "\"\n",
            "As for your claims of \"\"stalking\"\", that is absolute rubbish and serves only to aggravate the situation. I have assumed good faith (and good intentions) on your part, and have never suggested (or seen reason to suggest) that you might have some ulterior motive in mass-adding links to one specific company's web page. Nor, for that matter, have I ever made any suggestion that this is an \"\"administrative\"\" matter or even mentioned such a role. (Clearly, as a party to this disagreement, I would not do so at any rate as it would be a conflict of interest.) I would ask that you thus extend the same good faith toward me, rather than making spurious and unfounded accusations. ''''''chatspy \n",
            "\n",
            "\"\n",
            "\"\n",
            "as for your claims of \"\"stalking\"\", that is absolute rubbish and serves only to aggravate the situation. i have assumed good faith (and good intentions) on your part, and have never suggested (or seen reason to suggest) that you might have some ulterior motive in mass-adding links to one specific company's web page. nor, for that matter, have i ever made any suggestion that this is an \"\"administrative\"\" matter or even mentioned such a role. (clearly, as a party to this disagreement, i would not do so at any rate as it would be a conflict of interest.) i would ask that you thus extend the same good faith toward me, rather than making spurious and unfounded accusations. ''''''chatspy \n",
            "\n",
            "\"\n"
          ],
          "name": "stdout"
        }
      ]
    },
    {
      "cell_type": "code",
      "metadata": {
        "colab": {
          "base_uri": "https://localhost:8080/"
        },
        "id": "iyU3AnAo1in2",
        "outputId": "6ad24200-b514-4571-bf5d-51af9ef96859"
      },
      "source": [
        "# Remove html tags :\r\n",
        "def removehtml(comment_text):\r\n",
        "   \r\n",
        "    html = re.compile(r\"<.*?>|&([a-z0-9]+|#[0-9]{1,6}|#x[0-9a-f]{1,6});\")\r\n",
        "    return re.sub(html, \"\", comment_text)\r\n",
        "# check:\r\n",
        "train[\"cleanedtext\"] = train[\"cleanedtext\"].apply(lambda x: removehtml(x))\r\n",
        "\r\n",
        "# double check\r\n",
        "print(train[\"comment_text\"][612])\r\n",
        "print(train[\"cleanedtext\"][612])"
      ],
      "execution_count": 31,
      "outputs": [
        {
          "output_type": "stream",
          "text": [
            "2010]]\n",
            "[[User talk:Wikireader41/Archive4|Archive 5-Mar 15\n",
            "2010]]\n",
            "[[user talk:wikireader41/archive4|archive 5-mar 15\n"
          ],
          "name": "stdout"
        }
      ]
    },
    {
      "cell_type": "code",
      "metadata": {
        "colab": {
          "base_uri": "https://localhost:8080/"
        },
        "id": "2xC72Kil2aOA",
        "outputId": "21e11707-800b-4615-933c-005f0043a8b2"
      },
      "source": [
        "# Remove NON_ ASCI values :\r\n",
        "def non_ascii(comment_text):\r\n",
        "    \r\n",
        "    return re.sub(r'[^\\x00-\\x7f]',r'', comment_text)  \r\n",
        "# remove non-ascii characters from the text\r\n",
        "train[\"cleanedtext\"] = train[\"cleanedtext\"].apply(lambda x: non_ascii(x))\r\n",
        "\r\n",
        "# double check\r\n",
        "print(train[\"comment_text\"][38])\r\n",
        "print(train[\"cleanedtext\"][38])\r\n",
        "print(train[\"comment_text\"][7586])\r\n",
        "print(train[\"cleanedtext\"][7586])"
      ],
      "execution_count": 32,
      "outputs": [
        {
          "output_type": "stream",
          "text": [
            "Hi Explicit, can you block O Fenian for edit-warring on the Giant's Causeway wp. He has made several edits which can only be described as terrorism.\n",
            "hi explicit, can you block o fenian for edit-warring on the giant's causeway wp. he has made several edits which can only be described as terrorism.\n",
            "Points of view do not really come in to it, not mine, not yours, not anyone else's.  Will used MS theory to show that OWLSI could be measured.  Zhang showed the he was wrong.  Zhang shows in his book that MS theory cannot be used to analyse one-way light speed experiments; this is a simple algebraic fact.  Neither Will not anyone else has even claimed that there is an error in Zhang's work let alone found one and, unless and until someone does, it is an indisputable fact that Will was wrong.  The fact that others may have cited Will's original paper cannot change this; maybe they have not read Zhang's analysis.\n",
            "points of view do not really come in to it, not mine, not yours, not anyone else's.  will used ms theory to show that owlsi could be measured.  zhang showed the he was wrong.  zhang shows in his book that ms theory cannot be used to analyse one-way light speed experiments; this is a simple algebraic fact.  neither will not anyone else has even claimed that there is an error in zhang's work let alone found one and, unless and until someone does, it is an indisputable fact that will was wrong.  the fact that others may have cited will's original paper cannot change this; maybe they have not read zhang's analysis.\n"
          ],
          "name": "stdout"
        }
      ]
    },
    {
      "cell_type": "code",
      "metadata": {
        "colab": {
          "base_uri": "https://localhost:8080/",
          "height": 1000
        },
        "id": "m-3GlIRN3IvQ",
        "outputId": "1e01aed9-b81c-4e90-e371-b77b21fdace6"
      },
      "source": [
        "def specialcharacters(comment_text):\r\n",
        "    \r\n",
        "    charpattern = re.compile(\r\n",
        "        '['\r\n",
        "        u'\\U0001F600-\\U0001F64F'  # emoticons\r\n",
        "        u'\\U0001F300-\\U0001F5FF'  # symbols & pictographs\r\n",
        "        u'\\U0001F680-\\U0001F6FF'  # transport & map symbols\r\n",
        "        u'\\U0001F1E0-\\U0001F1FF'  # flags (iOS)\r\n",
        "        u'\\U00002702-\\U000027B0'\r\n",
        "        u'\\U000024C2-\\U0001F251'\r\n",
        "        ']+',\r\n",
        "        flags=re.UNICODE)\r\n",
        "    return charpattern.sub(r'', comment_text)\r\n",
        "%time\r\n",
        "# remove non-ascii characters from the text\r\n",
        "train[\"cleanedtext\"] = train[\"comment_text\"].apply(lambda x: specialcharacters(x))\r\n",
        "display(train.head())\r\n",
        "\r\n",
        "# double check\r\n",
        "print(train[\"comment_text\"][11143])\r\n",
        "print(train[\"cleanedtext\"][11143])\r\n",
        "print(train[\"comment_text\"][1189])\r\n",
        "print(train[\"cleanedtext\"][1189])"
      ],
      "execution_count": 34,
      "outputs": [
        {
          "output_type": "stream",
          "text": [
            "CPU times: user 2 µs, sys: 0 ns, total: 2 µs\n",
            "Wall time: 4.77 µs\n"
          ],
          "name": "stdout"
        },
        {
          "output_type": "display_data",
          "data": {
            "text/html": [
              "<div>\n",
              "<style scoped>\n",
              "    .dataframe tbody tr th:only-of-type {\n",
              "        vertical-align: middle;\n",
              "    }\n",
              "\n",
              "    .dataframe tbody tr th {\n",
              "        vertical-align: top;\n",
              "    }\n",
              "\n",
              "    .dataframe thead th {\n",
              "        text-align: right;\n",
              "    }\n",
              "</style>\n",
              "<table border=\"1\" class=\"dataframe\">\n",
              "  <thead>\n",
              "    <tr style=\"text-align: right;\">\n",
              "      <th></th>\n",
              "      <th>id</th>\n",
              "      <th>comment_text</th>\n",
              "      <th>toxic</th>\n",
              "      <th>severe_toxic</th>\n",
              "      <th>obscene</th>\n",
              "      <th>threat</th>\n",
              "      <th>insult</th>\n",
              "      <th>identity_hate</th>\n",
              "      <th>clean</th>\n",
              "      <th>text_clean</th>\n",
              "      <th>cleanedtext</th>\n",
              "    </tr>\n",
              "  </thead>\n",
              "  <tbody>\n",
              "    <tr>\n",
              "      <th>0</th>\n",
              "      <td>0000997932d777bf</td>\n",
              "      <td>Explanation\\nWhy the edits made under my usern...</td>\n",
              "      <td>0</td>\n",
              "      <td>0</td>\n",
              "      <td>0</td>\n",
              "      <td>0</td>\n",
              "      <td>0</td>\n",
              "      <td>0</td>\n",
              "      <td>1</td>\n",
              "      <td>explanation\\nwhy the edits made under my usern...</td>\n",
              "      <td>Explanation\\nWhy the edits made under my usern...</td>\n",
              "    </tr>\n",
              "    <tr>\n",
              "      <th>1</th>\n",
              "      <td>000103f0d9cfb60f</td>\n",
              "      <td>D'aww! He matches this background colour I'm s...</td>\n",
              "      <td>0</td>\n",
              "      <td>0</td>\n",
              "      <td>0</td>\n",
              "      <td>0</td>\n",
              "      <td>0</td>\n",
              "      <td>0</td>\n",
              "      <td>1</td>\n",
              "      <td>d'aww! he matches this background colour I am ...</td>\n",
              "      <td>D'aww! He matches this background colour I'm s...</td>\n",
              "    </tr>\n",
              "    <tr>\n",
              "      <th>2</th>\n",
              "      <td>000113f07ec002fd</td>\n",
              "      <td>Hey man, I'm really not trying to edit war. It...</td>\n",
              "      <td>0</td>\n",
              "      <td>0</td>\n",
              "      <td>0</td>\n",
              "      <td>0</td>\n",
              "      <td>0</td>\n",
              "      <td>0</td>\n",
              "      <td>1</td>\n",
              "      <td>hey man, I am really not trying to edit war. i...</td>\n",
              "      <td>Hey man, I'm really not trying to edit war. It...</td>\n",
              "    </tr>\n",
              "    <tr>\n",
              "      <th>3</th>\n",
              "      <td>0001b41b1c6bb37e</td>\n",
              "      <td>\"\\nMore\\nI can't make any real suggestions on ...</td>\n",
              "      <td>0</td>\n",
              "      <td>0</td>\n",
              "      <td>0</td>\n",
              "      <td>0</td>\n",
              "      <td>0</td>\n",
              "      <td>0</td>\n",
              "      <td>1</td>\n",
              "      <td>\"\\nmore\\ni can not make any real suggestions o...</td>\n",
              "      <td>\"\\nMore\\nI can't make any real suggestions on ...</td>\n",
              "    </tr>\n",
              "    <tr>\n",
              "      <th>4</th>\n",
              "      <td>0001d958c54c6e35</td>\n",
              "      <td>You, sir, are my hero. Any chance you remember...</td>\n",
              "      <td>0</td>\n",
              "      <td>0</td>\n",
              "      <td>0</td>\n",
              "      <td>0</td>\n",
              "      <td>0</td>\n",
              "      <td>0</td>\n",
              "      <td>1</td>\n",
              "      <td>you, sir, are my hero. any chance you remember...</td>\n",
              "      <td>You, sir, are my hero. Any chance you remember...</td>\n",
              "    </tr>\n",
              "  </tbody>\n",
              "</table>\n",
              "</div>"
            ],
            "text/plain": [
              "                 id  ...                                        cleanedtext\n",
              "0  0000997932d777bf  ...  Explanation\\nWhy the edits made under my usern...\n",
              "1  000103f0d9cfb60f  ...  D'aww! He matches this background colour I'm s...\n",
              "2  000113f07ec002fd  ...  Hey man, I'm really not trying to edit war. It...\n",
              "3  0001b41b1c6bb37e  ...  \"\\nMore\\nI can't make any real suggestions on ...\n",
              "4  0001d958c54c6e35  ...  You, sir, are my hero. Any chance you remember...\n",
              "\n",
              "[5 rows x 11 columns]"
            ]
          },
          "metadata": {
            "tags": []
          }
        },
        {
          "output_type": "stream",
          "text": [
            ", HIT Entertainment, Lyrick Studios, Connecticut Public Television WNET New York\n",
            ", HIT Entertainment, Lyrick Studios, Connecticut Public Television WNET New York\n",
            "\"\n",
            "{| style=\"\"background-color:#F5FFFA; padding:0;\"\" cellpadding=\"\"0\"\"\n",
            "|style=\"\"border:1px solid #084080; background-color:#F5FFFA; vertical-align:top; color:#000000;\"\"|\n",
            " Hello, ! Welcome to Wikipedia! Thank you for your contributions to this free encyclopedia. If you decide that you need help, check out Getting Help below, ask me on , or place  on your talk page and ask your question there. Please remember to sign your name on talk pages by clicking  or using four tildes (~~~~); this will automatically produce your username and the date. Finally, please do your best to always fill in the edit summary field. Below are some useful links to facilitate your involvement. Happy editing!   \n",
            "{| width=\"\"100%\"\" style=\"\"background-color:#F5FFFA;\"\"\n",
            "|style=\"\"width: 55%; border:1px solid #FFFFFF; background-color:#F5FFFA; vertical-align:top\"\"|\n",
            " Getting started A tutorial • Our five pillars • Getting mentored\n",
            " How to: edit a page • upload and use images Getting help Frequently asked questions • Tips\n",
            " Where to ask questions or make comments\n",
            " Request administrator attention Policies and guidelines Neutral point of view • No original research \n",
            " Verifiability • Reliable sources • Citing sources\n",
            " What Wikipedia is not • Biographies of living persons\n",
            "\n",
            " Manual of Style • Three-revert rule • Sock puppetry\n",
            " Copyrights • Policy for non-free content • Image use policy\n",
            " External links • Spam • Vandalism\n",
            " Deletion policy • Conflict of interest • Notability\n",
            "|class=\"\"MainPageBG\"\" style=\"\"width: 55%; border:1px solid #FFFFFF; background-color:#F5FFFA; vertical-align:top\"\"|\n",
            "{| width=\"\"100%\"\" cellpadding=\"\"0\"\" cellspacing=\"\"5\"\" style=\"\"vertical-align:top; background-color:#F5FFFA\"\"\n",
            "! The community\n",
            "|-\n",
            "|style=\"\"color:#000\"\"|\n",
            " Build consensus • Resolve disputes\n",
            " Assume good faith • Civility • Etiquette\n",
            " No personal attacks • No legal threats\n",
            "\n",
            " [[Wikip\n",
            "\"\n",
            "{| style=\"\"background-color:#F5FFFA; padding:0;\"\" cellpadding=\"\"0\"\"\n",
            "|style=\"\"border:1px solid #084080; background-color:#F5FFFA; vertical-align:top; color:#000000;\"\"|\n",
            " Hello, ! Welcome to Wikipedia! Thank you for your contributions to this free encyclopedia. If you decide that you need help, check out Getting Help below, ask me on , or place  on your talk page and ask your question there. Please remember to sign your name on talk pages by clicking  or using four tildes (~~~~); this will automatically produce your username and the date. Finally, please do your best to always fill in the edit summary field. Below are some useful links to facilitate your involvement. Happy editing!   \n",
            "{| width=\"\"100%\"\" style=\"\"background-color:#F5FFFA;\"\"\n",
            "|style=\"\"width: 55%; border:1px solid #FFFFFF; background-color:#F5FFFA; vertical-align:top\"\"|\n",
            " Getting started A tutorial • Our five pillars • Getting mentored\n",
            " How to: edit a page • upload and use images Getting help Frequently asked questions • Tips\n",
            " Where to ask questions or make comments\n",
            " Request administrator attention Policies and guidelines Neutral point of view • No original research \n",
            " Verifiability • Reliable sources • Citing sources\n",
            " What Wikipedia is not • Biographies of living persons\n",
            "\n",
            " Manual of Style • Three-revert rule • Sock puppetry\n",
            " Copyrights • Policy for non-free content • Image use policy\n",
            " External links • Spam • Vandalism\n",
            " Deletion policy • Conflict of interest • Notability\n",
            "|class=\"\"MainPageBG\"\" style=\"\"width: 55%; border:1px solid #FFFFFF; background-color:#F5FFFA; vertical-align:top\"\"|\n",
            "{| width=\"\"100%\"\" cellpadding=\"\"0\"\" cellspacing=\"\"5\"\" style=\"\"vertical-align:top; background-color:#F5FFFA\"\"\n",
            "! The community\n",
            "|-\n",
            "|style=\"\"color:#000\"\"|\n",
            " Build consensus • Resolve disputes\n",
            " Assume good faith • Civility • Etiquette\n",
            " No personal attacks • No legal threats\n",
            "\n",
            " [[Wikip\n"
          ],
          "name": "stdout"
        }
      ]
    },
    {
      "cell_type": "code",
      "metadata": {
        "colab": {
          "base_uri": "https://localhost:8080/"
        },
        "id": "KcbUsUNl4UDZ",
        "outputId": "114d671d-be57-4595-9499-587b4dc48bb9"
      },
      "source": [
        "# Remove PUNCTUATIONS:\r\n",
        "\r\n",
        "def punctuation(comment_text):\r\n",
        "  return comment_text.translate(str.maketrans('', '', string.punctuation))\r\n",
        "\r\n",
        "# remove punctuations from the text\r\n",
        "train[\"cleanedtext\"] = train[\"cleanedtext\"].apply(lambda x: punctuation(x))\r\n",
        "\r\n",
        "# double check\r\n",
        "print(train[\"comment_text\"][5])\r\n",
        "print(train[\"cleanedtext\"][5])\r\n",
        "print(train[\"comment_text\"][75097])\r\n",
        "print(train[\"cleanedtext\"][75097])"
      ],
      "execution_count": 36,
      "outputs": [
        {
          "output_type": "stream",
          "text": [
            "\"\n",
            "\n",
            "Congratulations from me as well, use the tools well.  · talk \"\n",
            "\n",
            "\n",
            "Congratulations from me as well use the tools well  · talk \n",
            "I hope that this response is helpful.  I apologize, but I'm afraid I do have to include the following disclaimers: \n",
            " This response is not legal advice or a representation of the viewpoints of the Wikimedia Foundation. \n",
            " The legal team can only represent the Wikimedia Foundation on legal matters, so this is not official advice to the community. \n",
            " The legal team cannot provide consultations, and contacting the legal team does not create any confidential relationship. \n",
            " This response is not intended to address a specific factual situation.\n",
            "I hope that this response is helpful  I apologize but Im afraid I do have to include the following disclaimers \n",
            " This response is not legal advice or a representation of the viewpoints of the Wikimedia Foundation \n",
            " The legal team can only represent the Wikimedia Foundation on legal matters so this is not official advice to the community \n",
            " The legal team cannot provide consultations and contacting the legal team does not create any confidential relationship \n",
            " This response is not intended to address a specific factual situation\n"
          ],
          "name": "stdout"
        }
      ]
    },
    {
      "cell_type": "code",
      "metadata": {
        "colab": {
          "base_uri": "https://localhost:8080/"
        },
        "id": "bRvjGVZv5O5a",
        "outputId": "84eb6d21-3d33-4f3b-8253-10fd2a5f9830"
      },
      "source": [
        "## acronyms , abbrevations, etc:\r\n",
        "\r\n",
        "def replacing(comment_text):\r\n",
        "\r\n",
        "  # Typos, slang and other\r\n",
        "        sampleslang = {\r\n",
        "                                \"w/e\": \"whatever\",\r\n",
        "                                \"usagov\": \"usa government\",\r\n",
        "                                \"recentlu\": \"recently\",\r\n",
        "                                \"ph0tos\": \"photos\",\r\n",
        "                                \"amirite\": \"am i right\",\r\n",
        "                                \"exp0sed\": \"exposed\",\r\n",
        "                                \"<3\": \"love\",\r\n",
        "                                \"luv\": \"love\",\r\n",
        "                                \"amageddon\": \"armageddon\",\r\n",
        "                                \"trfc\": \"traffic\",\r\n",
        "                                \"16yr\": \"16 year\",\r\n",
        "                                \"b/w\":\"between\",\r\n",
        "                                  \"ilu\":\"i love u\"\r\n",
        "                                }\r\n",
        "\r\n",
        "        # Acronyms\r\n",
        "        sampleacronyms =  { \r\n",
        "                            \"mh370\": \"malaysia airlines flight 370\",\r\n",
        "                            \"okwx\": \"oklahoma city weather\",\r\n",
        "                            \"arwx\": \"arkansas weather\",    \r\n",
        "                            \"gawx\": \"georgia weather\",  \r\n",
        "                            \"scwx\": \"south carolina weather\",  \r\n",
        "                            \"cawx\": \"california weather\",\r\n",
        "                            \"tnwx\": \"tennessee weather\",\r\n",
        "                            \"azwx\": \"arizona weather\",  \r\n",
        "                            \"alwx\": \"alabama weather\",\r\n",
        "                            \"usnwsgov\": \"united states national weather service\",\r\n",
        "                            \"2mw\": \"tomorrow\",\r\n",
        "                            \"tmrw\":\"tomorrow\",\r\n",
        "                            \"UK\":\"united kingdom\"\r\n",
        "                            }\r\n",
        "\r\n",
        "        \r\n",
        "        # Some common abbreviations \r\n",
        "        sampleabbrevations = {\r\n",
        "                              \"$\" : \" dollar \",\r\n",
        "                              \"€\" : \" euro \",\r\n",
        "                              \"4ao\" : \"for adults only\",\r\n",
        "                          \"a.m\" : \"before midday\",\r\n",
        "                          \"a3\" : \"anytime anywhere anyplace\",\r\n",
        "                          \"aamof\" : \"as a matter of fact\",\r\n",
        "                          \"acct\" : \"account\",\r\n",
        "                          \"adih\" : \"another day in hell\",\r\n",
        "                          \"afaic\" : \"as far as i am concerned\",\r\n",
        "                          \"afaict\" : \"as far as i can tell\",\r\n",
        "                          \"afaik\" : \"as far as i know\",\r\n",
        "                          \"afair\" : \"as far as i remember\",\r\n",
        "                          \"afk\" : \"away from keyboard\",\r\n",
        "                          \"app\" : \"application\",\r\n",
        "                          \"approx\" : \"approximately\",\r\n",
        "                          \"apps\" : \"applications\",\r\n",
        "                          \"asap\" : \"as soon as possible\",\r\n",
        "                          \"asl\" : \"age, sex, location\",\r\n",
        "                          \"atk\" : \"at the keyboard\",\r\n",
        "                          \"ave.\" : \"avenue\",\r\n",
        "                          \"aymm\" : \"are you my mother\",\r\n",
        "                          \"ayor\" : \"at your own risk\", \r\n",
        "                          \"b&b\" : \"bed and breakfast\",\r\n",
        "                          \"b+b\" : \"bed and breakfast\",\r\n",
        "                          \"b.c\" : \"before christ\",\r\n",
        "                          \"b2b\" : \"business to business\",\r\n",
        "                          \"b2c\" : \"business to customer\",\r\n",
        "                          \"b4\" : \"before\",\r\n",
        "                          \"b4n\" : \"bye for now\",\r\n",
        "                          \"b@u\" : \"back at you\",\r\n",
        "                          \"bae\" : \"before anyone else\",\r\n",
        "                          \"bak\" : \"back at keyboard\",\r\n",
        "                          \"bbbg\" : \"bye bye be good\",\r\n",
        "                          \"bbc\" : \"british broadcasting corporation\",\r\n",
        "                          \"bbias\" : \"be back in a second\",\r\n",
        "                          \"bbl\" : \"be back later\",\r\n",
        "                          \"bbs\" : \"be back soon\",\r\n",
        "                          \"be4\" : \"before\",\r\n",
        "                          \"bfn\" : \"bye for now\",\r\n",
        "                          \"blvd\" : \"boulevard\",\r\n",
        "                          \"bout\" : \"about\",\r\n",
        "                          \"brb\" : \"be right back\",\r\n",
        "                          \"bros\" : \"brothers\",\r\n",
        "                          \"brt\" : \"be right there\",\r\n",
        "                          \"bsaaw\" : \"big smile and a wink\",\r\n",
        "                          \"btw\" : \"by the way\",\r\n",
        "                          \"bwl\" : \"bursting with laughter\",\r\n",
        "                          \"c/o\" : \"care of\",\r\n",
        "                          \"cet\" : \"central european time\",\r\n",
        "                          \"cf\" : \"compare\",\r\n",
        "                          \"cia\" : \"central intelligence agency\",\r\n",
        "                          \"csl\" : \"can not stop laughing\",\r\n",
        "                          \"cu\" : \"see you\",\r\n",
        "                          \"cul8r\" : \"see you later\",\r\n",
        "                          \"cv\" : \"curriculum vitae\",\r\n",
        "                          \"cwot\" : \"complete waste of time\",\r\n",
        "                          \"cya\" : \"see you\",\r\n",
        "                          \"cyt\" : \"see you tomorrow\",\r\n",
        "                          \"dae\" : \"does anyone else\",\r\n",
        "                          \"dbmib\" : \"do not bother me i am busy\",\r\n",
        "                          \"diy\" : \"do it yourself\",\r\n",
        "                          \"dm\" : \"direct message\",\r\n",
        "                          \"dwh\" : \"during work hours\",\r\n",
        "                          \"e123\" : \"easy as one two three\",\r\n",
        "                          \"eet\" : \"eastern european time\",\r\n",
        "                          \"eg\" : \"example\",\r\n",
        "                          \"embm\" : \"early morning business meeting\",\r\n",
        "                          \"encl\" : \"enclosed\",\r\n",
        "                          \"encl.\" : \"enclosed\",\r\n",
        "                          \"etc\" : \"and so on\",\r\n",
        "                          \"faq\" : \"frequently asked questions\",\r\n",
        "                          \"fawc\" : \"for anyone who cares\",\r\n",
        "                          \"fb\" : \"facebook\",\r\n",
        "                          \"fc\" : \"fingers crossed\",\r\n",
        "                          \"fig\" : \"figure\",\r\n",
        "                          \"fimh\" : \"forever in my heart\", \r\n",
        "                          \"ft.\" : \"feet\",\r\n",
        "                          \"ft\" : \"featuring\",\r\n",
        "                          \"ftl\" : \"for the loss\",\r\n",
        "                          \"ftw\" : \"for the win\",\r\n",
        "                          \"fwiw\" : \"for what it is worth\",\r\n",
        "                          \"fyi\" : \"for your information\",\r\n",
        "                          \"g9\" : \"genius\",\r\n",
        "                          \"gahoy\" : \"get a hold of yourself\",\r\n",
        "                          \"gal\" : \"get a life\",\r\n",
        "                          \"gcse\" : \"general certificate of secondary education\",\r\n",
        "                          \"gfn\" : \"gone for now\",\r\n",
        "                          \"gg\" : \"good game\",\r\n",
        "                          \"gl\" : \"good luck\",\r\n",
        "                          \"glhf\" : \"good luck have fun\",\r\n",
        "                          \"gmt\" : \"greenwich mean time\",\r\n",
        "                          \"gmta\" : \"great minds think alike\",\r\n",
        "                          \"gn\" : \"good night\",\r\n",
        "                          \"g.o.a.t\" : \"greatest of all time\",\r\n",
        "                          \"goat\" : \"greatest of all time\",\r\n",
        "                          \"goi\" : \"get over it\",\r\n",
        "                          \"gps\" : \"global positioning system\",\r\n",
        "                          \"gr8\" : \"great\",\r\n",
        "                          \"gratz\" : \"congratulations\",\r\n",
        "                          \"gyal\" : \"girl\",\r\n",
        "                          \"h&c\" : \"hot and cold\",\r\n",
        "                          \"hp\" : \"horsepower\",\r\n",
        "                          \"hr\" : \"hour\",\r\n",
        "                          \"hrh\" : \"his royal highness\",\r\n",
        "                          \"ht\" : \"height\",\r\n",
        "                          \"ibrb\" : \"i will be right back\",\r\n",
        "                          \"ic\" : \"i see\",\r\n",
        "                          \"icq\" : \"i seek you\",\r\n",
        "                          \"icymi\" : \"in case you missed it\",\r\n",
        "                          \"idc\" : \"i do not care\",\r\n",
        "                          \"idgadf\" : \"i do not give a damn fuck\",\r\n",
        "                          \"idgaf\" : \"i do not give a fuck\",\r\n",
        "                          \"idk\" : \"i do not know\",\r\n",
        "                          \"ie\" : \"that is\",\r\n",
        "                          \"i.e\" : \"that is\",\r\n",
        "                          \"ifyp\" : \"i feel your pain\",\r\n",
        "                          \"IG\" : \"instagram\",\r\n",
        "                          \"iirc\" : \"if i remember correctly\",\r\n",
        "                          \"ilu\" : \"i love you\",\r\n",
        "                          \"ily\" : \"i love you\",\r\n",
        "                          \"imho\" : \"in my humble opinion\",\r\n",
        "                          \"imo\" : \"in my opinion\",\r\n",
        "                          \"imu\" : \"i miss you\",\r\n",
        "                          \"iow\" : \"in other words\",\r\n",
        "                          \"irl\" : \"in real life\",\r\n",
        "                          \"j4f\" : \"just for fun\",\r\n",
        "                          \"jic\" : \"just in case\",\r\n",
        "                          \"jk\" : \"just kidding\",\r\n",
        "                          \"jsyk\" : \"just so you know\",\r\n",
        "                          \"l8r\" : \"later\",\r\n",
        "                          \"lb\" : \"pound\",\r\n",
        "                          \"lbs\" : \"pounds\",\r\n",
        "                          \"ldr\" : \"long distance relationship\",\r\n",
        "                          \"lmao\" : \"laugh my ass off\",\r\n",
        "                          \"lmfao\" : \"laugh my fucking ass off\",\r\n",
        "                          \"lol\" : \"laughing out loud\",\r\n",
        "                          \"ltd\" : \"limited\",\r\n",
        "                          \"ltns\" : \"long time no see\",\r\n",
        "                          \"m8\" : \"mate\",\r\n",
        "                          \"mf\" : \"motherfucker\",\r\n",
        "                          \"mfs\" : \"motherfuckers\",\r\n",
        "                          \"mfw\" : \"my face when\",\r\n",
        "                          \"mofo\" : \"motherfucker\",\r\n",
        "                          \"mph\" : \"miles per hour\",\r\n",
        "                          \"mr\" : \"mister\",\r\n",
        "                          \"mrw\" : \"my reaction when\",\r\n",
        "                          \"ms\" : \"miss\",\r\n",
        "                          \"mte\" : \"my thoughts exactly\",\r\n",
        "                          \"nagi\" : \"not a good idea\",\r\n",
        "                          \"nbc\" : \"national broadcasting company\",\r\n",
        "                          \"nbd\" : \"not big deal\",\r\n",
        "                          \"nfs\" : \"not for sale\",\r\n",
        "                          \"ngl\" : \"not going to lie\",\r\n",
        "                          \"nhs\" : \"national health service\",\r\n",
        "                          \"nrn\" : \"no reply necessary\",\r\n",
        "                          \"nsfl\" : \"not safe for life\",\r\n",
        "                          \"nsfw\" : \"not safe for work\",\r\n",
        "                          \"nth\" : \"nice to have\",\r\n",
        "                          \"nvr\" : \"never\",\r\n",
        "                          \"nyc\" : \"new york city\",\r\n",
        "                          \"oc\" : \"original content\",\r\n",
        "                          \"og\" : \"original\",\r\n",
        "                          \"ohp\" : \"overhead projector\",\r\n",
        "                          \"oic\" : \"oh i see\",\r\n",
        "                          \"omdb\" : \"over my dead body\",\r\n",
        "                          \"omg\" : \"oh my god\",\r\n",
        "                          \"omw\" : \"on my way\",\r\n",
        "                          \"p.a\" : \"per annum\",\r\n",
        "                          \"p.m\" : \"after midday\",\r\n",
        "                          \"pm\" : \"prime minister\",\r\n",
        "                          \"poc\" : \"people of color\",\r\n",
        "                          \"pov\" : \"point of view\",\r\n",
        "                          \"pp\" : \"pages\",\r\n",
        "                          \"ppl\" : \"people\",\r\n",
        "                          \"prw\" : \"parents are watching\",\r\n",
        "                          \"ps\" : \"postscript\",\r\n",
        "                          \"pt\" : \"point\",\r\n",
        "                          \"ptb\" : \"please text back\",\r\n",
        "                          \"pto\" : \"please turn over\",\r\n",
        "                          \"qpsa\" : \"what happens\", #\"que pasa\",\r\n",
        "                          \"ratchet\" : \"rude\",\r\n",
        "                          \"rbtl\" : \"read between the lines\",\r\n",
        "                          \"rlrt\" : \"real life retweet\", \r\n",
        "                          \"rofl\" : \"rolling on the floor laughing\",\r\n",
        "                          \"roflol\" : \"rolling on the floor laughing out loud\",\r\n",
        "                          \"rotflmao\" : \"rolling on the floor laughing my ass off\",\r\n",
        "                          \"rt\" : \"retweet\",\r\n",
        "                          \"ruok\" : \"are you ok\",\r\n",
        "                          \"sfw\" : \"safe for work\",\r\n",
        "                          \"sk8\" : \"skate\",\r\n",
        "                          \"smh\" : \"shake my head\",\r\n",
        "                          \"sq\" : \"square\",\r\n",
        "                          \"srsly\" : \"seriously\", \r\n",
        "                          \"ssdd\" : \"same stuff different day\",\r\n",
        "                          \"tbh\" : \"to be honest\",\r\n",
        "                          \"tbs\" : \"tablespooful\",\r\n",
        "                          \"tbsp\" : \"tablespooful\",\r\n",
        "                          \"tfw\" : \"that feeling when\",\r\n",
        "                          \"thks\" : \"thank you\",\r\n",
        "                          \"tho\" : \"though\",\r\n",
        "                          \"thx\" : \"thank you\",\r\n",
        "                          \"tia\" : \"thanks in advance\",\r\n",
        "                          \"til\" : \"today i learned\",\r\n",
        "                          \"tl;dr\" : \"too long i did not read\",\r\n",
        "                          \"tldr\" : \"too long i did not read\",\r\n",
        "                          \"tmb\" : \"tweet me back\",\r\n",
        "                          \"tntl\" : \"trying not to laugh\",\r\n",
        "                          \"ttyl\" : \"talk to you later\",\r\n",
        "                          \"u\" : \"you\",\r\n",
        "                          \"u2\" : \"you too\",\r\n",
        "                          \"u4e\" : \"yours for ever\",\r\n",
        "                          \"utc\" : \"coordinated universal time\",\r\n",
        "                          \"w/\" : \"with\",\r\n",
        "                          \"w/o\" : \"without\",\r\n",
        "                          \"w8\" : \"wait\",\r\n",
        "                          \"wassup\" : \"what is up\",\r\n",
        "                          \"wb\" : \"welcome back\",\r\n",
        "                          \"wtf\" : \"what the fuck\",\r\n",
        "                          \"wtg\" : \"way to go\",\r\n",
        "                          \"wtpa\" : \"where the party at\",\r\n",
        "                          \"wuf\" : \"where are you from\",\r\n",
        "                          \"wuzup\" : \"what is up\",\r\n",
        "                          \"wywh\" : \"wish you were here\",\r\n",
        "                          \"yd\" : \"yard\",\r\n",
        "                          \"ygtr\" : \"you got that right\",\r\n",
        "                          \"ynk\" : \"you never know\",\r\n",
        "                          \"zzz\" : \"sleeping bored and tired\"\r\n",
        "                        }\r\n",
        "            \r\n",
        "        sampleslang_pattern = re.compile(r'(?<!\\w)(' + '|'.join(re.escape(key) for key in sampleslang.keys()) + r')(?!\\w)')\r\n",
        "        sampleacronyms_pattern = re.compile(r'(?<!\\w)(' + '|'.join(re.escape(key) for key in sampleacronyms.keys()) + r')(?!\\w)')\r\n",
        "        sampleabbrevations_pattern = re.compile(r'(?<!\\w)(' + '|'.join(re.escape(key) for key in sampleabbrevations.keys()) + r')(?!\\w)')\r\n",
        "        \r\n",
        "        comment_text = sampleslang_pattern.sub(lambda x: sampleslang[x.group()], comment_text)\r\n",
        "        comment_text = sampleacronyms_pattern.sub(lambda x: sampleacronyms[x.group()], comment_text)\r\n",
        "        comment_text = sampleabbrevations_pattern.sub(lambda x: sampleabbrevations[x.group()], comment_text)\r\n",
        "        \r\n",
        "        return comment_text\r\n",
        "%time\r\n",
        "\r\n",
        "# remove punctuations from the text\r\n",
        "train[\"cleanedtext\"] = train[\"cleanedtext\"].apply(lambda x: replacing(x))\r\n",
        "\r\n",
        "# double check\r\n",
        "print(train[\"comment_text\"][18844])\r\n",
        "print(train[\"cleanedtext\"][18844])\r\n",
        "print(train[\"comment_text\"][48409])\r\n",
        "print(train[\"cleanedtext\"][48409])\r\n"
      ],
      "execution_count": 37,
      "outputs": [
        {
          "output_type": "stream",
          "text": [
            "CPU times: user 3 µs, sys: 0 ns, total: 3 µs\n",
            "Wall time: 5.48 µs\n",
            "\"\n",
            "Works for me, although I would replace noise music by experimental music (his second solo album is best described as such). )  Le Zouave \"\n",
            "\n",
            "Works for me although I would replace noise music by experimental music his second solo album is best described as such   Le Zouave \n",
            "KISS-FM is a name used by a large number of Clear Channel Communications radio stations that broadcast the Top-40 format.\n",
            "\n",
            "Is there a list of these anywhere? The FCC only lists one station with the callsign, in San Antonio: .  01:11, Apr 11, 2004 (UTC)\n",
            "KISSFM is a name used by a large number of Clear Channel Communications radio stations that broadcast the Top40 format\n",
            "\n",
            "Is there a list of these anywhere The FCC only lists one station with the callsign in San Antonio   0111 Apr 11 2004 UTC\n"
          ],
          "name": "stdout"
        }
      ]
    },
    {
      "cell_type": "code",
      "metadata": {
        "colab": {
          "base_uri": "https://localhost:8080/"
        },
        "id": "XN6up0qB8VH-",
        "outputId": "9f4f5b70-5edf-43e2-c886-943fa2eedf4d"
      },
      "source": [
        "pip install textblob"
      ],
      "execution_count": 38,
      "outputs": [
        {
          "output_type": "stream",
          "text": [
            "Requirement already satisfied: textblob in /usr/local/lib/python3.6/dist-packages (0.15.3)\n",
            "Requirement already satisfied: nltk>=3.1 in /usr/local/lib/python3.6/dist-packages (from textblob) (3.2.5)\n",
            "Requirement already satisfied: six in /usr/local/lib/python3.6/dist-packages (from nltk>=3.1->textblob) (1.15.0)\n"
          ],
          "name": "stdout"
        }
      ]
    },
    {
      "cell_type": "code",
      "metadata": {
        "colab": {
          "base_uri": "https://localhost:8080/"
        },
        "id": "pPiZWy5V8BJ5",
        "outputId": "d316ad0e-33a2-4125-9764-736ebc24b2a6"
      },
      "source": [
        "# SPELLING CHECK:\r\n",
        "\r\n",
        "# Testing a line : EXAMPLE\r\n",
        "\r\n",
        "print(\"Test: \", TextBlob(\"I amm tooo hungeryy get me someethings to have and controol this\").correct())\r\n",
        "\r\n"
      ],
      "execution_count": 41,
      "outputs": [
        {
          "output_type": "stream",
          "text": [
            "Test:  I am took hungry get me something to have and control this\n"
          ],
          "name": "stdout"
        }
      ]
    },
    {
      "cell_type": "code",
      "metadata": {
        "colab": {
          "base_uri": "https://localhost:8080/"
        },
        "id": "PemHo20X9e6g",
        "outputId": "a44a3122-64b0-49f5-fc01-017656e3697e"
      },
      "source": [
        "pip install punkt"
      ],
      "execution_count": 44,
      "outputs": [
        {
          "output_type": "stream",
          "text": [
            "\u001b[31mERROR: Could not find a version that satisfies the requirement punkt (from versions: none)\u001b[0m\n",
            "\u001b[31mERROR: No matching distribution found for punkt\u001b[0m\n"
          ],
          "name": "stdout"
        }
      ]
    },
    {
      "cell_type": "code",
      "metadata": {
        "colab": {
          "base_uri": "https://localhost:8080/",
          "height": 595
        },
        "id": "ykU0ZmPe83ZC",
        "outputId": "8cfb0197-3647-4b71-ffe9-3a26a2fba1c6"
      },
      "source": [
        "## PRE- PROCESSING:\r\n",
        "\r\n",
        "# Tokenizing the  texts.\r\n",
        "train['tokenized'] = train[\"cleanedtext\"].apply(word_tokenize)\r\n",
        "train.head()"
      ],
      "execution_count": 21,
      "outputs": [
        {
          "output_type": "error",
          "ename": "KeyError",
          "evalue": "ignored",
          "traceback": [
            "\u001b[0;31m---------------------------------------------------------------------------\u001b[0m",
            "\u001b[0;31mKeyError\u001b[0m                                  Traceback (most recent call last)",
            "\u001b[0;32m/usr/local/lib/python3.6/dist-packages/pandas/core/indexes/base.py\u001b[0m in \u001b[0;36mget_loc\u001b[0;34m(self, key, method, tolerance)\u001b[0m\n\u001b[1;32m   2897\u001b[0m             \u001b[0;32mtry\u001b[0m\u001b[0;34m:\u001b[0m\u001b[0;34m\u001b[0m\u001b[0;34m\u001b[0m\u001b[0m\n\u001b[0;32m-> 2898\u001b[0;31m                 \u001b[0;32mreturn\u001b[0m \u001b[0mself\u001b[0m\u001b[0;34m.\u001b[0m\u001b[0m_engine\u001b[0m\u001b[0;34m.\u001b[0m\u001b[0mget_loc\u001b[0m\u001b[0;34m(\u001b[0m\u001b[0mcasted_key\u001b[0m\u001b[0;34m)\u001b[0m\u001b[0;34m\u001b[0m\u001b[0;34m\u001b[0m\u001b[0m\n\u001b[0m\u001b[1;32m   2899\u001b[0m             \u001b[0;32mexcept\u001b[0m \u001b[0mKeyError\u001b[0m \u001b[0;32mas\u001b[0m \u001b[0merr\u001b[0m\u001b[0;34m:\u001b[0m\u001b[0;34m\u001b[0m\u001b[0;34m\u001b[0m\u001b[0m\n",
            "\u001b[0;32mpandas/_libs/index.pyx\u001b[0m in \u001b[0;36mpandas._libs.index.IndexEngine.get_loc\u001b[0;34m()\u001b[0m\n",
            "\u001b[0;32mpandas/_libs/index.pyx\u001b[0m in \u001b[0;36mpandas._libs.index.IndexEngine.get_loc\u001b[0;34m()\u001b[0m\n",
            "\u001b[0;32mpandas/_libs/hashtable_class_helper.pxi\u001b[0m in \u001b[0;36mpandas._libs.hashtable.PyObjectHashTable.get_item\u001b[0;34m()\u001b[0m\n",
            "\u001b[0;32mpandas/_libs/hashtable_class_helper.pxi\u001b[0m in \u001b[0;36mpandas._libs.hashtable.PyObjectHashTable.get_item\u001b[0;34m()\u001b[0m\n",
            "\u001b[0;31mKeyError\u001b[0m: 'cleanedtext'",
            "\nThe above exception was the direct cause of the following exception:\n",
            "\u001b[0;31mKeyError\u001b[0m                                  Traceback (most recent call last)",
            "\u001b[0;32m<ipython-input-21-eae27fdb9910>\u001b[0m in \u001b[0;36m<module>\u001b[0;34m()\u001b[0m\n\u001b[1;32m      2\u001b[0m \u001b[0;34m\u001b[0m\u001b[0m\n\u001b[1;32m      3\u001b[0m \u001b[0;31m# Tokenizing the  texts.\u001b[0m\u001b[0;34m\u001b[0m\u001b[0;34m\u001b[0m\u001b[0;34m\u001b[0m\u001b[0m\n\u001b[0;32m----> 4\u001b[0;31m \u001b[0mtrain\u001b[0m\u001b[0;34m[\u001b[0m\u001b[0;34m'tokenized'\u001b[0m\u001b[0;34m]\u001b[0m \u001b[0;34m=\u001b[0m \u001b[0mtrain\u001b[0m\u001b[0;34m[\u001b[0m\u001b[0;34m\"cleanedtext\"\u001b[0m\u001b[0;34m]\u001b[0m\u001b[0;34m.\u001b[0m\u001b[0mapply\u001b[0m\u001b[0;34m(\u001b[0m\u001b[0mword_tokenize\u001b[0m\u001b[0;34m)\u001b[0m\u001b[0;34m\u001b[0m\u001b[0;34m\u001b[0m\u001b[0m\n\u001b[0m\u001b[1;32m      5\u001b[0m \u001b[0mtrain\u001b[0m\u001b[0;34m.\u001b[0m\u001b[0mhead\u001b[0m\u001b[0;34m(\u001b[0m\u001b[0;34m)\u001b[0m\u001b[0;34m\u001b[0m\u001b[0;34m\u001b[0m\u001b[0m\n",
            "\u001b[0;32m/usr/local/lib/python3.6/dist-packages/pandas/core/frame.py\u001b[0m in \u001b[0;36m__getitem__\u001b[0;34m(self, key)\u001b[0m\n\u001b[1;32m   2904\u001b[0m             \u001b[0;32mif\u001b[0m \u001b[0mself\u001b[0m\u001b[0;34m.\u001b[0m\u001b[0mcolumns\u001b[0m\u001b[0;34m.\u001b[0m\u001b[0mnlevels\u001b[0m \u001b[0;34m>\u001b[0m \u001b[0;36m1\u001b[0m\u001b[0;34m:\u001b[0m\u001b[0;34m\u001b[0m\u001b[0;34m\u001b[0m\u001b[0m\n\u001b[1;32m   2905\u001b[0m                 \u001b[0;32mreturn\u001b[0m \u001b[0mself\u001b[0m\u001b[0;34m.\u001b[0m\u001b[0m_getitem_multilevel\u001b[0m\u001b[0;34m(\u001b[0m\u001b[0mkey\u001b[0m\u001b[0;34m)\u001b[0m\u001b[0;34m\u001b[0m\u001b[0;34m\u001b[0m\u001b[0m\n\u001b[0;32m-> 2906\u001b[0;31m             \u001b[0mindexer\u001b[0m \u001b[0;34m=\u001b[0m \u001b[0mself\u001b[0m\u001b[0;34m.\u001b[0m\u001b[0mcolumns\u001b[0m\u001b[0;34m.\u001b[0m\u001b[0mget_loc\u001b[0m\u001b[0;34m(\u001b[0m\u001b[0mkey\u001b[0m\u001b[0;34m)\u001b[0m\u001b[0;34m\u001b[0m\u001b[0;34m\u001b[0m\u001b[0m\n\u001b[0m\u001b[1;32m   2907\u001b[0m             \u001b[0;32mif\u001b[0m \u001b[0mis_integer\u001b[0m\u001b[0;34m(\u001b[0m\u001b[0mindexer\u001b[0m\u001b[0;34m)\u001b[0m\u001b[0;34m:\u001b[0m\u001b[0;34m\u001b[0m\u001b[0;34m\u001b[0m\u001b[0m\n\u001b[1;32m   2908\u001b[0m                 \u001b[0mindexer\u001b[0m \u001b[0;34m=\u001b[0m \u001b[0;34m[\u001b[0m\u001b[0mindexer\u001b[0m\u001b[0;34m]\u001b[0m\u001b[0;34m\u001b[0m\u001b[0;34m\u001b[0m\u001b[0m\n",
            "\u001b[0;32m/usr/local/lib/python3.6/dist-packages/pandas/core/indexes/base.py\u001b[0m in \u001b[0;36mget_loc\u001b[0;34m(self, key, method, tolerance)\u001b[0m\n\u001b[1;32m   2898\u001b[0m                 \u001b[0;32mreturn\u001b[0m \u001b[0mself\u001b[0m\u001b[0;34m.\u001b[0m\u001b[0m_engine\u001b[0m\u001b[0;34m.\u001b[0m\u001b[0mget_loc\u001b[0m\u001b[0;34m(\u001b[0m\u001b[0mcasted_key\u001b[0m\u001b[0;34m)\u001b[0m\u001b[0;34m\u001b[0m\u001b[0;34m\u001b[0m\u001b[0m\n\u001b[1;32m   2899\u001b[0m             \u001b[0;32mexcept\u001b[0m \u001b[0mKeyError\u001b[0m \u001b[0;32mas\u001b[0m \u001b[0merr\u001b[0m\u001b[0;34m:\u001b[0m\u001b[0;34m\u001b[0m\u001b[0;34m\u001b[0m\u001b[0m\n\u001b[0;32m-> 2900\u001b[0;31m                 \u001b[0;32mraise\u001b[0m \u001b[0mKeyError\u001b[0m\u001b[0;34m(\u001b[0m\u001b[0mkey\u001b[0m\u001b[0;34m)\u001b[0m \u001b[0;32mfrom\u001b[0m \u001b[0merr\u001b[0m\u001b[0;34m\u001b[0m\u001b[0;34m\u001b[0m\u001b[0m\n\u001b[0m\u001b[1;32m   2901\u001b[0m \u001b[0;34m\u001b[0m\u001b[0m\n\u001b[1;32m   2902\u001b[0m         \u001b[0;32mif\u001b[0m \u001b[0mtolerance\u001b[0m \u001b[0;32mis\u001b[0m \u001b[0;32mnot\u001b[0m \u001b[0;32mNone\u001b[0m\u001b[0;34m:\u001b[0m\u001b[0;34m\u001b[0m\u001b[0;34m\u001b[0m\u001b[0m\n",
            "\u001b[0;31mKeyError\u001b[0m: 'cleanedtext'"
          ]
        }
      ]
    }
  ]
}